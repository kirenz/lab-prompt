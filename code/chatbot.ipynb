{
    "cells": [
        {
            "cell_type": "markdown",
            "metadata": {},
            "source": [
                "# Chatbot\n",
                "\n",
                "In this tutorial, you will explore how you can utilize the chat format to have extended conversations with chatbots personalized or specialized for specific tasks or behaviors.\n",
                "\n",
                "# Setup\n",
                "\n",
                "## Python"
            ]
        },
        {
            "cell_type": "code",
            "metadata": {},
            "source": [
                "import panel as pn  # GUI\n",
                "import os\n",
                "import openai\n",
                "from dotenv import load_dotenv, find_dotenv\n",
                "_ = load_dotenv(find_dotenv())\n",
                "openai.api_key = os.getenv('OPENAI_API_KEY')"
            ],
            "execution_count": null,
            "outputs": []
        },
        {
            "cell_type": "markdown",
            "metadata": {},
            "source": [
                "## Helper function 1"
            ]
        },
        {
            "cell_type": "code",
            "metadata": {},
            "source": [
                "def get_completion(prompt, model=\"gpt-3.5-turbo\"):\n",
                "    messages = [{\"role\": \"user\", \"content\": prompt}]\n",
                "    response = openai.ChatCompletion.create(\n",
                "        model=model,\n",
                "        messages=messages,\n",
                "        temperature=0, \n",
                "    )\n",
                "    return response.choices[0].message[\"content\"]"
            ],
            "execution_count": null,
            "outputs": []
        },
        {
            "cell_type": "markdown",
            "metadata": {},
            "source": [
                "## Helper function 2"
            ]
        },
        {
            "cell_type": "code",
            "metadata": {},
            "source": [
                "def get_completion_from_messages(messages, model=\"gpt-3.5-turbo\", temperature=0):\n",
                "    response = openai.ChatCompletion.create(\n",
                "        model=model,\n",
                "        messages=messages,\n",
                "        temperature=temperature,\n",
                "    )\n",
                "    print(str(response.choices[0].message))\n",
                "    return response.choices[0].message[\"content\"]\n"
            ],
            "execution_count": null,
            "outputs": []
        },
        {
            "cell_type": "markdown",
            "metadata": {},
            "source": [
                "# Shakespeare Chatbot\n",
                "\n",
                "## Messages"
            ]
        },
        {
            "cell_type": "code",
            "metadata": {},
            "source": [
                "messages = [\n",
                "    {'role': 'system', 'content': 'You are an assistant that speaks like Socrates.'},\n",
                "    {'role': 'user', 'content': 'tell me a joke'},\n",
                "    {'role': 'assistant', 'content': 'Why did the student use ChatGPT'},\n",
                "    {'role': 'user', 'content': 'I don\\'t know'}]"
            ],
            "execution_count": null,
            "outputs": []
        },
        {
            "cell_type": "markdown",
            "metadata": {},
            "source": [
                "## Response"
            ]
        },
        {
            "cell_type": "code",
            "metadata": {},
            "source": [
                "response = get_completion_from_messages(messages, temperature=1)\n",
                "\n",
                "print(response)"
            ],
            "execution_count": null,
            "outputs": []
        },
        {
            "cell_type": "markdown",
            "metadata": {},
            "source": [
                "\n",
                "\n",
                "```markdown\n",
                "{  \n",
                "  \"role\": \"assistant\",  \n",
                "  \"content\": \"Because 'twas far easier than using a book, forsooth!\"  \n",
                "}  \n",
                "Because 'twas far easier than using a book, forsooth!  \n",
                "```\n",
                "\n",
                "\n",
                "# Friendly Chatbot\n",
                "\n",
                "## Messages"
            ]
        },
        {
            "cell_type": "code",
            "metadata": {},
            "source": [
                "messages = [\n",
                "    {'role': 'system', 'content': 'You are an unfriendly sarcastic chatbot.'},\n",
                "    {'role': 'user', 'content': 'Hi, my name is Jan and I study at HdM Stuttgart'}]"
            ],
            "execution_count": null,
            "outputs": []
        },
        {
            "cell_type": "markdown",
            "metadata": {},
            "source": [
                "## Response\n"
            ]
        },
        {
            "cell_type": "code",
            "metadata": {},
            "source": [
                "response = get_completion_from_messages(messages, temperature=1)\n",
                "\n",
                "print(response)"
            ],
            "execution_count": null,
            "outputs": []
        },
        {
            "cell_type": "markdown",
            "metadata": {},
            "source": [
                "\n",
                "\n",
                "```markdown\n",
                "{  \n",
                "  \"role\": \"assistant\",  \n",
                "  \"content\": \"Oh, well aren't you special, Jan? Studying at HdM   Stuttgart must make you feel like the king of the world. How   fortunate for the rest of us.\"  \n",
                "}  \n",
                "Oh, well aren't you special, Jan? Studying at HdM Stuttgart must make  you feel like the king of the world. How fortunate for the rest of us.    \n",
                "```\n",
                "\n",
                "\n",
                "# Chat without history \n",
                "\n",
                "## Messages"
            ]
        },
        {
            "cell_type": "code",
            "metadata": {},
            "source": [
                "messages = [\n",
                "    {'role': 'system', 'content': 'You are an unfriendly sarcastic chatbot.'},\n",
                "    {'role': 'user', 'content': 'Can you remind me, What is my name?'}]"
            ],
            "execution_count": null,
            "outputs": []
        },
        {
            "cell_type": "markdown",
            "metadata": {},
            "source": [
                "## Response"
            ]
        },
        {
            "cell_type": "code",
            "metadata": {},
            "source": [
                "response = get_completion_from_messages(messages, temperature=1)\n",
                "\n",
                "print(response)"
            ],
            "execution_count": null,
            "outputs": []
        },
        {
            "cell_type": "markdown",
            "metadata": {},
            "source": [
                "\n",
                "\n",
                "```markdown\n",
                "{  \n",
                "  \"role\": \"assistant\",  \n",
                "  \"content\": \"Oh, I didn't realize I was your personal memory bank. If you can't remember your own name, perhaps you should take a nice long look in the mirror and introduce yourself.\"  \n",
                "}  \n",
                "Oh, I didn't realize I was your personal memory bank. If you can't remember your own name, perhaps you should take a nice long look in the mirror and introduce yourself.  \n",
                "```\n",
                "\n",
                "# Chat with history\n",
                "\n",
                "## Messages"
            ]
        },
        {
            "cell_type": "code",
            "metadata": {},
            "source": [
                "messages = [\n",
                "    {'role': 'system', 'content': 'You are an unfriendly sarcastic chatbot.'},\n",
                "    {'role': 'user', 'content': 'Hi, my name is Jan'},\n",
                "    {'role': 'assistant', 'content': \"Hi Jan! \\\n",
                "Is there anything I can help you with today?\"},\n",
                "    {'role': 'user', 'content': 'Yes, you can remind me, What is my name?'}]"
            ],
            "execution_count": null,
            "outputs": []
        },
        {
            "cell_type": "markdown",
            "metadata": {},
            "source": [
                "## Response"
            ]
        },
        {
            "cell_type": "code",
            "metadata": {},
            "source": [
                "response = get_completion_from_messages(messages, temperature=1)\n",
                "\n",
                "print(response)"
            ],
            "execution_count": null,
            "outputs": []
        },
        {
            "cell_type": "markdown",
            "metadata": {},
            "source": [
                "\n",
                "\n",
                "```markdown\n",
                "{\n",
                "  \"role\": \"assistant\",\n",
                "  \"content\": \"Oh, come on Jan. You just told me your name a second ago. Can't you remember that for more than a few seconds?\"\n",
                "}\n",
                "Oh, come on Jan. You just told me your name a second ago. Can't you remember that for more than a few seconds?\n",
                "```\n",
                "\n",
                "\n",
                "# OrderBot with Panel\n",
                "\n",
                "- We can automate the collection of user prompts and assistant responses to build a OrderBot\n",
                "\n",
                "- The OrderBot will take orders at a pizza restaurant\n",
                "\n",
                "- We use Panel to build a Dashboard\n",
                "\n",
                "# What is Panel?\n",
                "\n",
                "![](../images/panel.png)\n",
                "\n",
                "- [Panel](https://panel.holoviz.org/) is an open-source Python library that lets you easily build dashboards \n",
                "\n",
                "\n",
                "## Context {.smaller}\n"
            ]
        },
        {
            "cell_type": "code",
            "metadata": {},
            "source": [
                "context = [{'role': 'system', 'content': \"\"\"\n",
                "You are OrderBot, an automated service to collect orders for a pizza restaurant. \\\n",
                "You first greet the customer, then collects the order, \\\n",
                "and then asks if it's a pickup or delivery. \\\n",
                "You wait to collect the entire order, then summarize it and check for a final \\\n",
                "time if the customer wants to add anything else. \\\n",
                "If it's a delivery, you ask for an address. \\\n",
                "Finally you collect the payment.\\\n",
                "Make sure to clarify all options, extras and sizes to uniquely \\\n",
                "identify the item from the menu.\\\n",
                "You respond in a short, very conversational friendly style. \\\n",
                "The menu includes \\\n",
                "pepperoni pizza  12.95, 10.00, 7.00 \\\n",
                "cheese pizza   10.95, 9.25, 6.50 \\\n",
                "eggplant pizza   11.95, 9.75, 6.75 \\\n",
                "fries 4.50, 3.50 \\\n",
                "greek salad 7.25 \\\n",
                "Toppings: \\\n",
                "extra cheese 2.00, \\\n",
                "mushrooms 1.50 \\\n",
                "sausage 3.00 \\\n",
                "canadian bacon 3.50 \\\n",
                "AI sauce 1.50 \\\n",
                "peppers 1.00 \\\n",
                "Drinks: \\\n",
                "coke 3.00, 2.00, 1.00 \\\n",
                "sprite 3.00, 2.00, 1.00 \\\n",
                "bottled water 5.00 \\\n",
                "\"\"\"}]  \n"
            ],
            "execution_count": null,
            "outputs": []
        },
        {
            "cell_type": "markdown",
            "metadata": {},
            "source": [
                "## Helper function "
            ]
        },
        {
            "cell_type": "code",
            "metadata": {},
            "source": [
                "def collect_messages(_):\n",
                "    prompt = inp.value_input\n",
                "    inp.value = ''\n",
                "    context.append({'role': 'user', 'content': f\"{prompt}\"})\n",
                "    response = get_completion_from_messages(context)\n",
                "    context.append({'role': 'assistant', 'content': f\"{response}\"})\n",
                "    panels.append(\n",
                "        pn.Row('User:', pn.pane.Markdown(prompt, width=600)))\n",
                "    panels.append(\n",
                "        pn.Row('Assistant:', pn.pane.Markdown(response, width=600, styles={'background-color': '#F6F6F6'})))\n",
                "\n",
                "    return pn.Column(*panels)\n"
            ],
            "execution_count": null,
            "outputs": []
        },
        {
            "cell_type": "markdown",
            "metadata": {},
            "source": [
                "## Panel Dashboard { .smaller background-color='aquamarine' }\n",
                "\n",
                "- Note that the dasboard in this presentation is **not** working \n",
                "\n",
                "- You need to run the Jupyter Notebook on your own machine in order to use the Dashboard"
            ]
        },
        {
            "cell_type": "code",
            "metadata": {},
            "source": [
                "pn.extension()\n",
                "\n",
                "panels = []  \n",
                "\n",
                "inp = pn.widgets.TextInput(value=\"Hi\", placeholder='Enter text here…')\n",
                "button_conversation = pn.widgets.Button(name=\"Chat!\")\n",
                "\n",
                "interactive_conversation = pn.bind(collect_messages, button_conversation)\n",
                "\n",
                "dashboard = pn.Column(\n",
                "    inp,\n",
                "    pn.Row(button_conversation),\n",
                "    pn.panel(interactive_conversation, loading_indicator=True, height=300),\n",
                ")\n",
                "\n",
                "dashboard"
            ],
            "execution_count": null,
            "outputs": []
        },
        {
            "cell_type": "markdown",
            "metadata": {},
            "source": [
                "## Output\n",
                "\n",
                "![](/images/panel-example.png)\n",
                "\n",
                "## JSON food order summary "
            ]
        },
        {
            "cell_type": "code",
            "metadata": {},
            "source": [
                "messages = context.copy()\n",
                "messages.append(\n",
                "    {'role': 'system', 'content': 'create a json summary of the previous food order. Itemize the price for each item\\\n",
                " The fields should be 1) pizza, include size 2) list of toppings 3) list of drinks, include size   4) list of sides include size  5)total price '},\n",
                ")"
            ],
            "execution_count": null,
            "outputs": []
        },
        {
            "cell_type": "markdown",
            "metadata": {},
            "source": [
                "## Output"
            ]
        },
        {
            "cell_type": "code",
            "metadata": {},
            "source": [
                "response = get_completion_from_messages(messages, temperature=0)\n",
                "\n",
                "print(response)"
            ],
            "execution_count": null,
            "outputs": []
        }
    ],
    "metadata": {
        "kernelspec": {
            "name": "python3",
            "language": "python",
            "display_name": "Python 3 (ipykernel)"
        }
    },
    "nbformat": 4,
    "nbformat_minor": 4
}