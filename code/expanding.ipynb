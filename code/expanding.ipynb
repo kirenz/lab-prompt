{
    "cells": [
        {
            "cell_type": "markdown",
            "metadata": {},
            "source": [
                "# Setup\n",
                "\n",
                "## Python"
            ]
        },
        {
            "cell_type": "code",
            "metadata": {},
            "source": [
                "import openai\n",
                "import os\n",
                "\n",
                "from dotenv import load_dotenv, find_dotenv\n",
                "_ = load_dotenv(find_dotenv())  # read local .env file\n",
                "\n",
                "openai.api_key = os.getenv('OPENAI_API_KEY')"
            ],
            "execution_count": null,
            "outputs": []
        },
        {
            "cell_type": "markdown",
            "metadata": {},
            "source": [
                "## Helper function"
            ]
        },
        {
            "cell_type": "code",
            "metadata": {},
            "source": [
                "def get_completion(prompt, model=\"gpt-3.5-turbo\", temperature=0):\n",
                "    messages = [{\"role\": \"user\", \"content\": prompt}]\n",
                "    response = openai.ChatCompletion.create(\n",
                "        model=model,\n",
                "        messages=messages,\n",
                "        temperature=temperature,  # this is the degree of randomness of the model's output\n",
                "    )\n",
                "    return response.choices[0].message[\"content\"]\n"
            ],
            "execution_count": null,
            "outputs": []
        },
        {
            "cell_type": "markdown",
            "metadata": {},
            "source": [
                "# Customized Reply\n",
                "\n",
                "Customize the automated reply to a customer email\n",
                "\n",
                "## Sentiment and text\n"
            ]
        },
        {
            "cell_type": "code",
            "metadata": {},
            "source": [
                "sentiment = \"negative\"\n",
                "\n",
                "# review for a blender\n",
                "review = f\"\"\"\n",
                "So, they still had the 17 piece system on seasonal \\\n",
                "sale for around $49 in the month of November, about \\\n",
                "half off, but for some reason (call it price gouging) \\\n",
                "around the second week of December the prices all went \\\n",
                "up to about anywhere from between $70-$89 for the same \\\n",
                "system. And the 11 piece system went up around $10 or \\\n",
                "so in price also from the earlier sale price of $29. \\\n",
                "So it looks okay, but if you look at the base, the part \\\n",
                "where the blade locks into place doesn’t look as good \\\n",
                "as in previous editions from a few years ago, but I \\\n",
                "plan to be very gentle with it (example, I crush \\\n",
                "very hard items like beans, ice, rice, etc. in the \\ \n",
                "blender first then pulverize them in the serving size \\\n",
                "I want in the blender then switch to the whipping \\\n",
                "blade for a finer flour, and use the cross cutting blade \\\n",
                "first when making smoothies, then use the flat blade \\\n",
                "if I need them finer/less pulpy). Special tip when making \\\n",
                "smoothies, finely cut and freeze the fruits and \\\n",
                "vegetables (if using spinach-lightly stew soften the \\ \n",
                "spinach then freeze until ready for use-and if making \\\n",
                "sorbet, use a small to medium sized food processor) \\ \n",
                "that you plan to use that way you can avoid adding so \\\n",
                "much ice if at all-when making your smoothie. \\\n",
                "After about a year, the motor was making a funny noise. \\\n",
                "I called customer service but the warranty expired \\\n",
                "already, so I had to buy another one. FYI: The overall \\\n",
                "quality has gone done in these types of products, so \\\n",
                "they are kind of counting on brand recognition and \\\n",
                "consumer loyalty to maintain sales. Got it in about \\\n",
                "two days.\n",
                "\"\"\""
            ],
            "execution_count": null,
            "outputs": []
        },
        {
            "cell_type": "markdown",
            "metadata": {},
            "source": [
                "## Prompt"
            ]
        },
        {
            "cell_type": "code",
            "metadata": {
                "output-location": "slide"
            },
            "source": [
                "prompt = f\"\"\"\n",
                "You are a customer service AI assistant.\n",
                "Your task is to send an email reply to a valued customer.\n",
                "Given the customer email delimited by ```, \\\n",
                "Generate a reply to thank the customer for their review.\n",
                "If the sentiment is positive or neutral, thank them for \\\n",
                "their review.\n",
                "If the sentiment is negative, apologize and suggest that \\\n",
                "they can reach out to customer service. \n",
                "Make sure to use specific details from the review.\n",
                "Write in a concise and professional tone.\n",
                "Sign the email as `AI customer agent`.\n",
                "Customer review: ```{review}```\n",
                "Review sentiment: {sentiment}\n",
                "\"\"\"\n",
                "response = get_completion(prompt)\n",
                "print(response)"
            ],
            "execution_count": null,
            "outputs": []
        },
        {
            "cell_type": "code",
            "metadata": {
                "output-location": "slide"
            },
            "source": [
                "prompt = f\"\"\"\n",
                "You are a customer service AI assistant.\n",
                "Your task is to send an email reply to a valued customer.\n",
                "Given the customer email delimited by ```, \\\n",
                "Generate a reply to thank the customer for their review.\n",
                "If the sentiment is positive or neutral, thank them for \\\n",
                "their review.\n",
                "If the sentiment is negative, apologize and suggest that \\\n",
                "they can reach out to customer service. \n",
                "Make sure to use specific details from the review.\n",
                "Write in a concise and professional tone.\n",
                "Sign the email as `AI customer agent`.\n",
                "Customer review: ```{review}```\n",
                "Review sentiment: {sentiment}\n",
                "\"\"\"\n",
                "response = get_completion(prompt, temperature=0.7)\n",
                "print(response)"
            ],
            "execution_count": null,
            "outputs": []
        }
    ],
    "metadata": {
        "kernelspec": {
            "name": "python3",
            "language": "python",
            "display_name": "Python 3 (ipykernel)"
        }
    },
    "nbformat": 4,
    "nbformat_minor": 4
}