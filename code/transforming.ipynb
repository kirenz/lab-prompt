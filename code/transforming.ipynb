{
    "cells": [
        {
            "cell_type": "markdown",
            "metadata": {},
            "source": [
                "# Setup\n",
                "\n",
                "## API key and Python libaries"
            ]
        },
        {
            "cell_type": "code",
            "metadata": {},
            "source": [
                "from redlines import Redlines\n",
                "from IPython.display import display, Markdown, Latex, HTML, JSON\n",
                "import openai\n",
                "import os\n",
                "\n",
                "from dotenv import load_dotenv, find_dotenv\n",
                "_ = load_dotenv(find_dotenv())  # read local .env file\n",
                "\n",
                "openai.api_key = os.getenv('OPENAI_API_KEY')"
            ],
            "execution_count": null,
            "outputs": []
        },
        {
            "cell_type": "markdown",
            "metadata": {},
            "source": [
                "## Helper function"
            ]
        },
        {
            "cell_type": "code",
            "metadata": {},
            "source": [
                "def get_completion(prompt, model=\"gpt-3.5-turbo\", temperature=0):\n",
                "    messages = [{\"role\": \"user\", \"content\": prompt}]\n",
                "    response = openai.ChatCompletion.create(\n",
                "        model=model,\n",
                "        messages=messages,\n",
                "        temperature=temperature,\n",
                "    )\n",
                "    return response.choices[0].message[\"content\"]\n"
            ],
            "execution_count": null,
            "outputs": []
        },
        {
            "cell_type": "markdown",
            "metadata": {},
            "source": [
                "# Translation\n",
                "\n",
                "- ChatGPT is trained with sources in many languages\n",
                "- This gives the model the ability to do translation\n",
                "\n",
                "\n",
                "## Example 1"
            ]
        },
        {
            "cell_type": "code",
            "metadata": {
                "output-location": "fragment"
            },
            "source": [
                "prompt = f\"\"\"\n",
                "Translate the following English text to Spanish: \\ \n",
                "```Hi, I would like to order a blender```\n",
                "\"\"\"\n",
                "response = get_completion(prompt)\n",
                "print(response)"
            ],
            "execution_count": null,
            "outputs": []
        },
        {
            "cell_type": "markdown",
            "metadata": {},
            "source": [
                "## Example 2"
            ]
        },
        {
            "cell_type": "code",
            "metadata": {
                "output-location": "fragment"
            },
            "source": [
                "prompt = f\"\"\"\n",
                "Tell me which language this is: \n",
                "```Combien coûte le lampadaire?```\n",
                "\"\"\"\n",
                "response = get_completion(prompt)\n",
                "print(response)"
            ],
            "execution_count": null,
            "outputs": []
        },
        {
            "cell_type": "markdown",
            "metadata": {},
            "source": [
                "## Example 3"
            ]
        },
        {
            "cell_type": "code",
            "metadata": {
                "output-location": "fragment"
            },
            "source": [
                "prompt = f\"\"\"\n",
                "Translate the following  text to French and Spanish\n",
                "and English pirate: \\\n",
                "```I want to order a basketball```\n",
                "\"\"\"\n",
                "response = get_completion(prompt)\n",
                "print(response)"
            ],
            "execution_count": null,
            "outputs": []
        },
        {
            "cell_type": "markdown",
            "metadata": {},
            "source": [
                "## Example 4"
            ]
        },
        {
            "cell_type": "code",
            "metadata": {
                "output-location": "fragment"
            },
            "source": [
                "prompt = f\"\"\"\n",
                "Translate the following text to Spanish in both the \\\n",
                "formal and informal forms: \n",
                "'Would you like to order a pillow?'\n",
                "\"\"\"\n",
                "response = get_completion(prompt)\n",
                "print(response)"
            ],
            "execution_count": null,
            "outputs": []
        },
        {
            "cell_type": "markdown",
            "metadata": {},
            "source": [
                "# Universal Translator\n",
                "\n",
                "## Context\n",
                "\n",
                "- Imagine you are in charge of IT at a large multinational e-commerce company\n",
                "- Users are messaging you with IT issues in all their native languages\n",
                "- Your staff is from all over the world and speaks only their native languages\n",
                "- You need a universal translator!\n",
                "\n",
                "## User messages"
            ]
        },
        {
            "cell_type": "code",
            "metadata": {},
            "source": [
                "user_messages = [\n",
                "    \"La performance du système est plus lente que d'habitude.\",\n",
                "    \"Mi monitor tiene píxeles que no se iluminan.\",\n",
                "    \"Il mio mouse non funziona\",\n",
                "    \"Mój klawisz Ctrl jest zepsuty\",\n",
                "    \"我的屏幕在闪烁\"\n",
                "]"
            ],
            "execution_count": null,
            "outputs": []
        },
        {
            "cell_type": "markdown",
            "metadata": {},
            "source": [
                "## Translations"
            ]
        },
        {
            "cell_type": "code",
            "metadata": {
                "output-location": "slide"
            },
            "source": [
                "for issue in user_messages:\n",
                "    prompt = f\"Tell me what language this is: ```{issue}```\"\n",
                "    lang = get_completion(prompt)\n",
                "    print(f\"Original message ({lang}): {issue}\")\n",
                "\n",
                "    prompt = f\"\"\"\n",
                "    Translate the following  text to English \\\n",
                "    and German: ```{issue}```\n",
                "    \"\"\"\n",
                "    response = get_completion(prompt)\n",
                "    print(response, \"\\n\")"
            ],
            "execution_count": null,
            "outputs": []
        },
        {
            "cell_type": "markdown",
            "metadata": {},
            "source": [
                "## User messages with English translation\n",
                "\n",
                "- System performance is slower than normal: \"La performance du système est plus lente que d'habitude.\",\n",
                "- My monitor has pixels that are not lighting: \"Mi monitor tiene píxeles que no se iluminan.\",\n",
                "- My mouse is not working: \"Il mio mouse non funziona\",\n",
                "- My keyboard has a broken control key: \"Mój klawisz Ctrl jest zepsuty\",\n",
                "- My screen is flashing: ‚\"我的屏幕在闪烁\"  \n",
                "\n",
                "# Tone Transformation\n",
                "\n",
                "## From slang to business tone\n",
                "\n",
                "- Writing can vary based on the intended audience. \n",
                "- ChatGPT can produce different tones."
            ]
        },
        {
            "cell_type": "code",
            "metadata": {
                "output-location": "slide"
            },
            "source": [
                "prompt = f\"\"\"\n",
                "Translate the following from slang to a business letter: \n",
                "'Dude, This is Joe, check out this spec on this standing lamp.'\n",
                "\"\"\"\n",
                "response = get_completion(prompt)\n",
                "print(response)"
            ],
            "execution_count": null,
            "outputs": []
        },
        {
            "cell_type": "markdown",
            "metadata": {},
            "source": [
                "# Format Conversion\n",
                "\n",
                "- ChatGPT can translate between formats. \n",
                "- The prompt should describe the input and output formats.\n",
                "\n",
                "## From dictionary to HTML "
            ]
        },
        {
            "cell_type": "code",
            "metadata": {
                "output-location": "slide"
            },
            "source": [
                "data_json = {\"restaurant employees\": [\n",
                "    {\"name\": \"Shyam\", \"email\": \"shyamjaiswal@gmail.com\"},\n",
                "    {\"name\": \"Bob\", \"email\": \"bob32@gmail.com\"},\n",
                "    {\"name\": \"Jai\", \"email\": \"jai87@gmail.com\"}\n",
                "]}\n",
                "\n",
                "prompt = f\"\"\"\n",
                "Translate the following python dictionary from JSON to an HTML \\\n",
                "table with column headers and title: {data_json}\n",
                "\"\"\"\n",
                "response = get_completion(prompt)\n",
                "print(response)"
            ],
            "execution_count": null,
            "outputs": []
        },
        {
            "cell_type": "markdown",
            "metadata": {},
            "source": [
                "## HTML output\n"
            ]
        },
        {
            "cell_type": "code",
            "metadata": {
                "output-location": "slide"
            },
            "source": [
                "display(HTML(response))"
            ],
            "execution_count": null,
            "outputs": []
        },
        {
            "cell_type": "markdown",
            "metadata": {},
            "source": [
                "# Spellcheck & Grammar check\n",
                "\n",
                "- To signal to the LLM that you want it to proofread your text, you instruct the model to 'proofread' or 'proofread and correct'\n",
                "\n",
                "## Multiple text examples\n",
                "\n",
                "- Text examples are taken from [Writing Prompts](https://writingprompts.com/bad-grammar-examples/)\n"
            ]
        },
        {
            "cell_type": "code",
            "metadata": {},
            "source": [
                "text = [\n",
                "    \"The girl with the black and white puppies have a ball.\",\n",
                "    \"Yolanda has her notebook.\",\n",
                "    \"Its going to be a long day. Does the car need it’s oil changed?\",\n",
                "    \"Their goes my freedom. There going to bring they’re suitcases.\",\n",
                "    \"Your going to need you’re notebook.\",\n",
                "    \"That medicine effects my ability to sleep. Have you heard of the butterfly affect?\",\n",
                "    \"This phrase is to cherck chatGPT for speling abilitty\"\n",
                "]"
            ],
            "execution_count": null,
            "outputs": []
        },
        {
            "cell_type": "markdown",
            "metadata": {},
            "source": [
                "## Proofreading"
            ]
        },
        {
            "cell_type": "markdown",
            "metadata": {},
            "source": [
                "# | output-location: slide\n",
                "\n",
                "prompt = f\"\"\"Proofread and correct the following text and rewrite the corrected version. If you don't find and errors, just say \"No errors found\". Don't use  any punctuation around the text:\n",
                "    ```{t}```\"\"\"\n",
                "response = get_completion(prompt)\n",
                "print(response)\n",
                "```\n",
                "\n",
                "## Review about a toy  {.smaller}"
            ]
        },
        {
            "cell_type": "code",
            "metadata": {
                "output-location": "slide"
            },
            "source": [
                "text = f\"\"\"\n",
                "Got this for my daughter for her birthday cuz she keeps taking \\\n",
                "mine from my room.  Yes, adults also like pandas too.  She takes \\\n",
                "it everywhere with her, and it's super soft and cute.  One of the \\\n",
                "ears is a bit lower than the other, and I don't think that was \\\n",
                "designed to be asymmetrical. It's a bit small for what I paid for it \\\n",
                "though. I think there might be other options that are bigger for \\\n",
                "the same price.  It arrived a day earlier than expected, so I got \\\n",
                "to play with it myself before I gave it to my daughter.\n",
                "\"\"\""
            ],
            "execution_count": null,
            "outputs": []
        },
        {
            "cell_type": "markdown",
            "metadata": {},
            "source": [
                "## Proofreading\n"
            ]
        },
        {
            "cell_type": "code",
            "metadata": {
                "output-location": "slide"
            },
            "source": [
                "prompt = f\"proofread and correct this review: ```{text}```\"\n",
                "response = get_completion(prompt)\n",
                "print(response)"
            ],
            "execution_count": null,
            "outputs": []
        },
        {
            "cell_type": "markdown",
            "metadata": {},
            "source": [
                "## Display differences\n"
            ]
        },
        {
            "cell_type": "code",
            "metadata": {
                "output-location": "slide"
            },
            "source": [
                "diff = Redlines(text, response)\n",
                "display(Markdown(diff.output_markdown))"
            ],
            "execution_count": null,
            "outputs": []
        },
        {
            "cell_type": "markdown",
            "metadata": {},
            "source": [
                "## Make it more compelling\n"
            ]
        },
        {
            "cell_type": "code",
            "metadata": {
                "output-location": "slide"
            },
            "source": [
                "prompt = f\"\"\"\n",
                "proofread and correct this review. Make it more compelling. \n",
                "Ensure it follows APA style guide and targets an advanced reader. \n",
                "Output in markdown format.\n",
                "Text: ```{text}```\n",
                "\"\"\"\n",
                "response = get_completion(prompt)\n",
                "display(Markdown(response))"
            ],
            "execution_count": null,
            "outputs": []
        },
        {
            "cell_type": "code",
            "metadata": {
                "output-location": "slide"
            },
            "source": [
                "diff2 = Redlines(text, response)\n",
                "display(Markdown(diff2.output_markdown))"
            ],
            "execution_count": null,
            "outputs": []
        }
    ],
    "metadata": {
        "kernelspec": {
            "name": "python3",
            "language": "python",
            "display_name": "Python 3 (ipykernel)"
        }
    },
    "nbformat": 4,
    "nbformat_minor": 4
}