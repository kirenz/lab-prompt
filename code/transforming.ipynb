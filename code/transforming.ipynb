{
    "cells": [
        {
            "cell_type": "markdown",
            "metadata": {},
            "source": [
                "# Transforming\n",
                "\n",
                "In this tutorial, we will explore how to use Large Language Models for text transformation tasks such as language translation, spelling and grammar checking, tone adjustment, and format conversion.\n",
                "\n",
                "# Setup\n",
                "\n",
                "## API key and Python libaries"
            ]
        },
        {
            "cell_type": "code",
            "metadata": {},
            "source": [
                "from redlines import Redlines\n",
                "from IPython.display import display, Markdown, Latex, HTML, JSON\n",
                "import openai\n",
                "import os\n",
                "\n",
                "from dotenv import load_dotenv, find_dotenv\n",
                "_ = load_dotenv(find_dotenv())  \n",
                "\n",
                "openai.api_key = os.getenv('OPENAI_API_KEY')"
            ],
            "execution_count": null,
            "outputs": []
        },
        {
            "cell_type": "markdown",
            "metadata": {},
            "source": [
                "## Helper function"
            ]
        },
        {
            "cell_type": "code",
            "metadata": {},
            "source": [
                "def get_completion(prompt, model=\"gpt-3.5-turbo\", temperature=0):\n",
                "    messages = [{\"role\": \"user\", \"content\": prompt}]\n",
                "    response = openai.ChatCompletion.create(\n",
                "        model=model,\n",
                "        messages=messages,\n",
                "        temperature=temperature,\n",
                "    )\n",
                "    return response.choices[0].message[\"content\"]\n"
            ],
            "execution_count": null,
            "outputs": []
        },
        {
            "cell_type": "markdown",
            "metadata": {},
            "source": [
                "# Translation\n",
                "\n",
                "- ChatGPT is trained with sources in many languages\n",
                "- This gives the model the ability to do translation\n",
                "\n",
                "\n",
                "## Translate this text"
            ]
        },
        {
            "cell_type": "code",
            "metadata": {},
            "source": [
                "prompt = f\"\"\"\n",
                "Translate the following English text to German: \\ \n",
                "```Hi, I would like to order a blender```\n",
                "\"\"\"\n",
                "\n",
                "response = get_completion(prompt)\n",
                "print(response)"
            ],
            "execution_count": null,
            "outputs": []
        },
        {
            "cell_type": "markdown",
            "metadata": {},
            "source": [
                "- Output: Hallo, ich möchte gerne einen Mixer bestellen.\n",
                "\n",
                "## Which language is this?"
            ]
        },
        {
            "cell_type": "code",
            "metadata": {},
            "source": [
                "prompt = f\"\"\"\n",
                "Tell me which language this is: \n",
                "```Wie geht es dir?```\n",
                "\"\"\"\n",
                "response = get_completion(prompt)\n",
                "print(response)"
            ],
            "execution_count": null,
            "outputs": []
        },
        {
            "cell_type": "markdown",
            "metadata": {},
            "source": [
                "- Output: This language is German.\n",
                "\n",
                "\n",
                "## Translate with style"
            ]
        },
        {
            "cell_type": "code",
            "metadata": {},
            "source": [
                "prompt = f\"\"\"\n",
                "Translate the following text to German in both the \\\n",
                "formal and informal forms: \n",
                "'Would you like to order a pillow?'\n",
                "\"\"\"\n",
                "response = get_completion(prompt)\n",
                "print(response)"
            ],
            "execution_count": null,
            "outputs": []
        },
        {
            "cell_type": "markdown",
            "metadata": {},
            "source": [
                "- Output:\n",
                "  - Formal: Möchten Sie ein Kissen bestellen?\n",
                "  - Informal: Möchtest du ein Kissen bestellen?\n",
                "\n",
                "# Universal Translator\n",
                "\n",
                "## Context\n",
                "\n",
                "- Imagine you are in charge of IT at a large multinational e-commerce company\n",
                "- Users are messaging you with IT issues in all their native languages\n",
                "- Your staff is from all over the world and speaks only their native languages\n",
                "- You need a universal translator!\n",
                "\n",
                "## User messages"
            ]
        },
        {
            "cell_type": "code",
            "metadata": {},
            "source": [
                "user_messages = [\n",
                "    \"La performance du système est plus lente que d'habitude.\",\n",
                "    \"Mi monitor tiene píxeles que no se iluminan.\",\n",
                "    \"Il mio mouse non funziona\",\n",
                "    \"Mój klawisz Ctrl jest zepsuty\",\n",
                "    \"我的屏幕在闪烁\"\n",
                "]"
            ],
            "execution_count": null,
            "outputs": []
        },
        {
            "cell_type": "markdown",
            "metadata": {},
            "source": [
                "## Translations"
            ]
        },
        {
            "cell_type": "code",
            "metadata": {},
            "source": [
                "for issue in user_messages:\n",
                "    prompt = f\"Tell me what language this is: ```{issue}```\"\n",
                "    lang = get_completion(prompt)\n",
                "    print(f\"Original message ({lang}): {issue}\")\n",
                "\n",
                "    prompt = f\"\"\"\n",
                "    Translate the following  text to English \\\n",
                "    and German: ```{issue}```\n",
                "    \"\"\"\n",
                "    response = get_completion(prompt)\n",
                "    print(response, \"\\n\")"
            ],
            "execution_count": null,
            "outputs": []
        },
        {
            "cell_type": "markdown",
            "metadata": {},
            "source": [
                "## Output {.smaller}\n",
                "\n",
                "Original message (The language is French.): La performance du système est plus lente que d'habitude.\n",
                "The performance of the system is slower than usual.\n",
                "\n",
                "Die Leistung des Systems ist langsamer als gewöhnlich. \n",
                "\n",
                "Original message (The language is Spanish.): Mi monitor tiene píxeles que no se iluminan.\n",
                "English: \"My monitor has pixels that do not light up.\"\n",
                "\n",
                "German: \"Mein Monitor hat Pixel, die nicht aufleuchten.\" \n",
                "\n",
                "Original message (The language is Italian.): Il mio mouse non funziona\n",
                "English: My mouse is not working.\n",
                "German: Meine Maus funktioniert nicht. \n",
                "\n",
                "Original message (The language is Polish.): Mój klawisz Ctrl jest zepsuty\n",
                "English: \"My Ctrl key is broken\"\n",
                "German: \"Meine Strg-Taste ist kaputt\" \n",
                "\n",
                "Original message (The language is Chinese.): 我的屏幕在闪烁\n",
                "English: My screen is flickering.\n",
                "German: Mein Bildschirm flackert. \n",
                " \n",
                "\n",
                "# Tone Transformation\n",
                "\n",
                "- Writing can vary based on the intended audience. \n",
                "- ChatGPT can produce different tones.\n",
                "\n",
                "## From slang to business tone\n"
            ]
        },
        {
            "cell_type": "code",
            "metadata": {},
            "source": [
                "prompt = f\"\"\"\n",
                "Translate the following from slang to a business letter: \n",
                "'Dude, This is Joe, check out this spec on this standing lamp.'\n",
                "\"\"\"\n",
                "response = get_completion(prompt)\n",
                "print(response)"
            ],
            "execution_count": null,
            "outputs": []
        },
        {
            "cell_type": "markdown",
            "metadata": {},
            "source": [
                "## Output\n",
                "\n",
                "Dear Sir/Madam,\n",
                "\n",
                "I hope this letter finds you well. My name is Joe, and I am writing to bring your attention to a specification document regarding a standing lamp. \n",
                "\n",
                "I kindly request that you take a moment to review the attached spec, as it contains important details about the standing lamp in question. \n",
                "\n",
                "Thank you for your time and consideration. I look forward to hearing from you soon.\n",
                "\n",
                "Sincerely,\n",
                "Joe\n",
                "\n",
                "\n",
                "# Format Conversion\n",
                "\n",
                "- ChatGPT can translate between formats. \n",
                "- The prompt should describe the input and output formats.\n",
                "\n",
                "## From dictionary to HTML "
            ]
        },
        {
            "cell_type": "code",
            "metadata": {},
            "source": [
                "data_json = {\"restaurant employees\": [\n",
                "    {\"name\": \"Shyam\", \"email\": \"shyamjaiswal@gmail.com\"},\n",
                "    {\"name\": \"Bob\", \"email\": \"bob32@gmail.com\"},\n",
                "    {\"name\": \"Jai\", \"email\": \"jai87@gmail.com\"}\n",
                "]}\n",
                "\n",
                "prompt = f\"\"\"\n",
                "Translate the following python dictionary from JSON to an HTML \\\n",
                "table with column headers and title: {data_json}\n",
                "\"\"\"\n",
                "response = get_completion(prompt)\n",
                "print(response)"
            ],
            "execution_count": null,
            "outputs": []
        },
        {
            "cell_type": "markdown",
            "metadata": {},
            "source": [
                "## Output {.smaller}\n",
                "\n",
                "```{=html}\n",
                "<!DOCTYPE html>\n",
                "<html>\n",
                "<head>\n",
                "<style>\n",
                "table {\n",
                "  font-family: arial, sans-serif;\n",
                "  border-collapse: collapse;\n",
                "  width: 100%;\n",
                "}\n",
                "\n",
                "td, th {\n",
                "  border: 1px solid #dddddd;\n",
                "  text-align: left;\n",
                "  padding: 8px;\n",
                "}\n",
                "\n",
                "tr:nth-child(even) {\n",
                "  background-color: #dddddd;\n",
                "}\n",
                "</style>\n",
                "</head>\n",
                "<body>\n",
                "\n",
                "<h2>Restaurant Employees</h2>\n",
                "\n",
                "<table>\n",
                "  <tr>\n",
                "    <th>Name</th>\n",
                "    <th>Email</th>\n",
                "  </tr>\n",
                "  <tr>\n",
                "    <td>Shyam</td>\n",
                "    <td>shyamjaiswal@gmail.com</td>\n",
                "  </tr>\n",
                "  <tr>\n",
                "    <td>Bob</td>\n",
                "    <td>bob32@gmail.com</td>\n",
                "  </tr>\n",
                "  <tr>\n",
                "    <td>Jai</td>\n",
                "    <td>jai87@gmail.com</td>\n",
                "  </tr>\n",
                "</table>\n",
                "\n",
                "</body>\n",
                "</html>\n",
                "\n",
                "\n",
                "```\n",
                "\n",
                "\n",
                "# Spellcheck & Grammar check\n",
                "\n",
                "To signal to the LLM that you want it to proofread your text, you instruct the model to 'proofread' or 'proofread and correct'\n",
                "\n",
                "## Text examples\n",
                "\n",
                "- Text examples are taken from [Writing Prompts](https://writingprompts.com/bad-grammar-examples/)\n"
            ]
        },
        {
            "cell_type": "code",
            "metadata": {},
            "source": [
                "text = [\n",
                "    \"The girl with the black and white puppies have a ball.\",\n",
                "    \"Yolanda has her notebook.\",\n",
                "    \"Its going to be a long day. Does the car need it’s oil changed?\",\n",
                "    \"Their goes my freedom. There going to bring they’re suitcases.\",\n",
                "    \"Your going to need you’re notebook.\",\n",
                "    \"That medicine effects my ability to sleep. Have you heard of the butterfly affect?\",\n",
                "    \"This phrase is to cherck chatGPT for speling abilitty\"\n",
                "]"
            ],
            "execution_count": null,
            "outputs": []
        },
        {
            "cell_type": "markdown",
            "metadata": {},
            "source": [
                "## Proofreading"
            ]
        },
        {
            "cell_type": "code",
            "metadata": {},
            "source": [
                "prompt = f\"\"\"\n",
                "Proofread and correct all sentences in the following Python list delimited by triple backticks and rewrite the corrected version. Mark the corrected words in markdown italic style using the  symbol. If you don't find any errors in an item, just say \"No errors found\":\n",
                "```{text}```\n",
                "\"\"\"\n",
                "\n",
                "response = get_completion(prompt)\n",
                "print(response)"
            ],
            "execution_count": null,
            "outputs": []
        },
        {
            "cell_type": "markdown",
            "metadata": {},
            "source": [
                "- Output:\n",
                "* ['The girl with the black and white puppies *has* a ball.']\n",
                "* ['*Yolanda* has her notebook.']\n",
                "* ['*It's* going to be a long day. Does the car need *its* oil changed?']\n",
                "* ['*There* goes my freedom. *They're* going to bring *their* suitcases.']\n",
                "* ['*You're* going to need *your* notebook.']\n",
                "* ['That medicine *affects* my ability to sleep. Have you heard of the butterfly *effect*?']\n",
                "* ['This phrase is *to check* *ChatGPT* for *spelling ability*.']\n",
                "\n",
                "\n",
                "## Review about a toy  {.smaller}"
            ]
        },
        {
            "cell_type": "code",
            "metadata": {},
            "source": [
                "text = f\"\"\"\n",
                "Got this for my daughter for her birthday cuz she keeps taking \\\n",
                "mine from my room.  Yes, adults also like pandas too.  She takes \\\n",
                "it everywhere with her, and it's super soft and cute.  One of the \\\n",
                "ears is a bit lower than the other, and I don't think that was \\\n",
                "designed to be asymmetrical. It's a bit small for what I paid for it \\\n",
                "though. I think there might be other options that are bigger for \\\n",
                "the same price.  It arrived a day earlier than expected, so I got \\\n",
                "to play with it myself before I gave it to my daughter.\n",
                "\"\"\""
            ],
            "execution_count": null,
            "outputs": []
        },
        {
            "cell_type": "markdown",
            "metadata": {},
            "source": [
                "## Proofreading\n"
            ]
        },
        {
            "cell_type": "code",
            "metadata": {},
            "source": [
                "prompt = f\"proofread and correct this review: ```{text}```\"\n",
                "\n",
                "response = get_completion(prompt)\n",
                "print(response)"
            ],
            "execution_count": null,
            "outputs": []
        },
        {
            "cell_type": "markdown",
            "metadata": {},
            "source": [
                "## Output\n",
                "\n",
                "Got this for my daughter for her birthday because she keeps taking mine from my room. Yes, adults also like pandas too. She takes it everywhere with her, and it's super soft and cute. However, one of the ears is a bit lower than the other, and I don't think that was designed to be asymmetrical. Additionally, it's a bit small for what I paid for it. I believe there might be other options that are bigger for the same price. On the positive side, it arrived a day earlier than expected, so I got to play with it myself before I gave it to my daughter.\n",
                "\n",
                "## Display differences\n",
                "\n",
                "- Use the following code to display the dfferences between the two texts:"
            ]
        },
        {
            "cell_type": "code",
            "metadata": {},
            "source": [
                "diff = Redlines(text, response)\n",
                "\n",
                "display(Markdown(diff.output_markdown))"
            ],
            "execution_count": null,
            "outputs": []
        },
        {
            "cell_type": "markdown",
            "metadata": {},
            "source": [
                "## Make it more compelling\n"
            ]
        },
        {
            "cell_type": "code",
            "metadata": {},
            "source": [
                "prompt = f\"\"\"\n",
                "proofread and correct this review. Make it more compelling. \n",
                "Ensure it follows APA style guide and targets an advanced reader. \n",
                "Output in markdown format.\n",
                "Text: ```{text}```\n",
                "\"\"\"\n",
                "\n",
                "response = get_completion(prompt)\n",
                "display(Markdown(response))"
            ],
            "execution_count": null,
            "outputs": []
        },
        {
            "cell_type": "markdown",
            "metadata": {},
            "source": [
                "## Output {.smaller}\n",
                "\n",
                "Title: A Delightful Gift for Panda Enthusiasts: A Review of the Soft and Adorable Panda Plush Toy\n",
                "\n",
                "Reviewer: [Your Name]\n",
                "\n",
                "I recently purchased this charming panda plush toy as a birthday gift for my daughter, who has a penchant for \"borrowing\" my belongings from time to time. As an adult, I must admit that I too have fallen under the spell of these lovable creatures. This review aims to provide an in-depth analysis of the product, catering to advanced readers who appreciate a comprehensive evaluation.\n",
                "\n",
                "First and foremost, the softness and cuteness of this panda plush toy are simply unparalleled. Its irresistibly plush exterior makes it a joy to touch and hold, ensuring a delightful sensory experience for both children and adults alike. The attention to detail is evident, with its endearing features capturing the essence of a real panda. However, it is worth noting that one of the ears appears to be slightly asymmetrical, which may not have been an intentional design choice.\n",
                "\n",
                "While the overall quality of the product is commendable, I must express my slight disappointment regarding its size in relation to its price. Considering the investment made, I expected a larger plush toy. It is worth exploring alternative options that offer a more substantial size for the same price point. Nevertheless, this minor setback does not overshadow the undeniable appeal and charm of the panda plush toy.\n",
                "\n",
                "In terms of delivery, I was pleasantly surprised to receive the product a day earlier than anticipated. This unexpected early arrival allowed me to indulge in some personal playtime with the panda plush toy before presenting it to my daughter. This added bonus further exemplifies the exceptional customer service provided by the seller.\n",
                "\n",
                "In conclusion, the softness, cuteness, and attention to detail of this panda plush toy make it an ideal gift for panda enthusiasts of all ages. While the size may not fully meet expectations, the overall quality and timely delivery contribute to a positive purchasing experience. For those seeking a delightful and endearing companion, this panda plush toy is sure to bring joy and comfort to its lucky owner.\n",
                "\n",
                "Note: This review adheres to the APA style guide, providing a concise and compelling evaluation of the panda plush toy. The language used is targeted towards an advanced reader, ensuring a sophisticated and engaging review.\n",
                "\n",
                "\n",
                "## Show differences"
            ]
        },
        {
            "cell_type": "code",
            "metadata": {},
            "source": [
                "diff2 = Redlines(text, response)\n",
                "display(Markdown(diff2.output_markdown))"
            ],
            "execution_count": null,
            "outputs": []
        }
    ],
    "metadata": {
        "kernelspec": {
            "name": "python3",
            "language": "python",
            "display_name": "Python 3 (ipykernel)"
        }
    },
    "nbformat": 4,
    "nbformat_minor": 4
}