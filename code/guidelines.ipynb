{
    "cells": [
        {
            "cell_type": "markdown",
            "metadata": {},
            "source": [
                "# Prompt Engineering Guidelines\n",
                "\n",
                "In this tutorial, we'll practice two prompting principles and their related tactics in order to write effective prompts for large language models.\n",
                "\n",
                "## What is prompt engineering?\n",
                "\n",
                "- The inputs to LLMs are referred to as \"**prompts**\"\n",
                "\n",
                "- Designing a prompt is essentially how you “program” a LLM:\n",
                "  - with **instructions** \n",
                "  - or some **examples** of how to successfully complete a task\n",
                "\n",
                "- Prompt **engineering**\n",
                "  - methods to improve model reasoning \n",
                "  - reduce the likelihood of model hallucinations\n",
                "\n",
                "\n",
                "## Prompting in ChatGPT\n",
                "\n",
                "![](/images/prompt.png)\n",
                "\n",
                "## We use OpenAI's API {.smaller}\n",
                "\n",
                "![](/images/api.png)\n",
                "\n",
                "\n",
                "- The OpenAI API can be applied to virtually any task that requires understanding or generating natural language and code. \n",
                "\n",
                "- Can also be used to generate and edit images or convert speech into text.\n",
                "\n",
                "## Example prompt {.smaller}\n",
                "\n",
                "- Example prompt with a *system message* (helps set the behavior of the assistant)\n",
                "\n",
                ""
            ]
        },
        {
            "cell_type": "code",
            "metadata": {},
            "source": [
                "prompt = f\"\"\"\n",
                "Summarize the text delimited by triple backticks \\ \n",
                "into a single sentence and add a joke or playful comment\n",
                "\n",
                "```{text}```\n",
                "\"\"\""
            ],
            "execution_count": null,
            "outputs": []
        },
        {
            "cell_type": "markdown",
            "metadata": {},
            "source": [
                "- `f`: [Formatted strings](https://docs.python.org/3/tutorial/inputoutput.html) allow you to embed expressions inside string literals, using curly braces {}\n",
                "- `\"\"\"`: Triple double-quotes are used to denote a string that spans multiple lines. \n",
                "- `\\`: line breaks are used to make the text more readable\n",
                "- `{text}` is a placeholder for a variable text that will be placed into the string at that position. \n",
                "\n",
                "## Example text"
            ]
        },
        {
            "cell_type": "code",
            "metadata": {},
            "source": [
                "text = f\"\"\"\n",
                "You should express what you want a model to do by \\ \n",
                "providing instructions that are as clear and \\ \n",
                "specific as you can possibly make them. \\ \n",
                "This will guide the model towards the desired output, \\ \n",
                "and reduce the chances of receiving irrelevant \\ \n",
                "or incorrect responses. Don't confuse writing a \\ \n",
                "clear prompt with writing a short prompt. \\ \n",
                "In many cases, longer prompts provide more clarity \\ \n",
                "and context for the model, which can lead to \\ \n",
                "more detailed and relevant outputs.\n",
                "\"\"\""
            ],
            "execution_count": null,
            "outputs": []
        },
        {
            "cell_type": "markdown",
            "metadata": {},
            "source": [
                "## Chat completion helper function {.smaller}"
            ]
        },
        {
            "cell_type": "code",
            "metadata": {},
            "source": [
                "def get_completion(prompt, model=\"gpt-3.5-turbo\"): # <1>\n",
                "    messages = [{\"role\": \"user\", \"content\": prompt}] # <2>\n",
                "    response = openai.ChatCompletion.create( # <3>\n",
                "        model=model, # <4>\n",
                "        messages=messages, # <5>\n",
                "        temperature=0)   # <6>  \n",
                "    return response.choices[0].message[\"content\"] # <7>"
            ],
            "execution_count": null,
            "outputs": []
        },
        {
            "cell_type": "markdown",
            "metadata": {},
            "source": [
                "1. Defines the function `get_completion` with two parameters\n",
                "2. Dictionary with two key-value pairs (role as `\"user\"`; content as `prompt`) \n",
                "3. Initiates an API call to OpenAI's [ChatCompletion](https://platform.openai.com/docs/guides/chat) method; result is stored in a variable named `response`.\n",
                "4. Specifies the model to be used (we always use `\"gpt-3.5-turbo\"`) \n",
                "5. Passes the `messages` list to the API\n",
                "6. The degree of randomness of the model's output (0 makes the model's output more focused and deterministic).\n",
                "7. Extracts and returns the content of the message. \n",
                "\n",
                "\n",
                "## What is a sytem message?\n",
                "\n",
                "- The *system message* is optional and helps set the behavior of the assistant.\n",
                "\n",
                "- You can modify the *personality* of the assistant or provide *specific instructions* about how it should behave\n",
                "  - You can use specific personas (e.g. write in the style of Socrates)\n",
                "  - If outputs are too simple, ask for expert-level writing.  \n",
                "  - If you dislike the format, demonstrate the format you’d like to see. \n",
                "\n",
                "## What is the temperature?\n",
                "\n",
                "- Lower values for temperature result in more consistent outputs\n",
                "\n",
                "- Higher values generate more diverse and creative results. \n",
                "\n",
                "- Select a temperature value based on the desired trade-off between coherence and creativity for your specific application.\n",
                "\n",
                "\n",
                "## What are tokens?\n",
                "\n",
                "- Language models read and write text in chunks called tokens. \n",
                "\n",
                "- In English, a token can be as short as one character or as long as one word (e.g., a or apple), \n",
                "\n",
                "- For example, the string \"ChatGPT is great!\" is encoded into six tokens: \n",
                "  - `[\"Chat\", \"G\", \"PT\", \" is\", \" great\", \"!\"]`.\n",
                "\n",
                "## Tokens\n",
                "\n",
                "![](/images/tokens.png)\n",
                "\n",
                "\n",
                "## Tokens and API calls\n",
                "\n",
                "- The total number of tokens in an API call affects:\n",
                "  - How much your API call costs, as you pay per token\n",
                "  - How long your API call takes, as writing more tokens takes more time\n",
                "  - Whether your API call works at all, as total tokens must be below the model’s maximum limit (4097 tokens for gpt-3.5-turbo)\n",
                "\n",
                "<!--\n",
                "\n",
                "## Function calling {.smaller}\n",
                "\n",
                "- Function calling allows you to more reliably get structured data back from the model\n",
                "\n",
                "- Examples: \n",
                "\n",
                "  - Create chatbots that answer questions by calling external APIs (e.g. like ChatGPT Plugins): e.g. define functions like send_email(to: string, body: string), or get_current_weather(location: string, unit: 'celsius' | 'fahrenheit')\n",
                "\n",
                "  - Convert natural language into API calls: e.g. convert \"Who are my top customers?\" to get_customers(min_revenue: int, created_before: string, limit: int) and call your internal API\n",
                "\n",
                "  - Extract structured data from text: e.g. define a function called extract_data(name: string, birthday: string), or sql_query(query: string)\n",
                "-->\n",
                "\n",
                "# Setup\n",
                "\n",
                "## API key and Python libaries"
            ]
        },
        {
            "cell_type": "code",
            "metadata": {},
            "source": [
                "import openai\n",
                "import os\n",
                "\n",
                "from dotenv import load_dotenv, find_dotenv\n",
                "_ = load_dotenv(find_dotenv())\n",
                "\n",
                "openai.api_key = os.getenv('OPENAI_API_KEY')"
            ],
            "execution_count": null,
            "outputs": []
        },
        {
            "cell_type": "markdown",
            "metadata": {},
            "source": [
                "## Helper function {.smaller}"
            ]
        },
        {
            "cell_type": "code",
            "metadata": {},
            "source": [
                "def get_completion(prompt, model=\"gpt-3.5-turbo\"):\n",
                "    messages = [{\"role\": \"user\", \"content\": prompt}]\n",
                "    response = openai.ChatCompletion.create(\n",
                "        model=model,\n",
                "        messages=messages,\n",
                "        temperature=0, \n",
                "    )\n",
                "    return response.choices[0].message[\"content\"]\n"
            ],
            "execution_count": null,
            "outputs": []
        },
        {
            "cell_type": "markdown",
            "metadata": {},
            "source": [
                "# Principle 1: Be clear and specific\n",
                "\n",
                "Write clear and specific instructions\n",
                "\n",
                "\n",
                "## Use delimiters {.smaller}\n",
                "\n",
                "- Always use delimiters (like backticks) to clearly indicate distinct parts of the input\n",
                "\n",
                ""
            ]
        },
        {
            "cell_type": "code",
            "metadata": {
                "output-location": "fragment"
            },
            "source": [
                "text = f\"\"\"\n",
                "You should express what you want a model to do by \\ \n",
                "providing instructions that are as clear and \\ \n",
                "specific as you can possibly make them. \\ \n",
                "This will guide the model towards the desired output, \\ \n",
                "and reduce the chances of receiving irrelevant \\ \n",
                "or incorrect responses. Don't confuse writing a \\ \n",
                "clear prompt with writing a short prompt. \\ \n",
                "In many cases, longer prompts provide more clarity \\ \n",
                "and context for the model, which can lead to \\ \n",
                "more detailed and relevant outputs.\n",
                "\"\"\"\n",
                "prompt = f\"\"\"\n",
                "Summarize the text delimited by triple backticks \\ \n",
                "into a single sentence and add a joke or playful comment\n",
                "```{text}```\n",
                "\"\"\"\n",
                "response = get_completion(prompt)\n",
                "print(response)"
            ],
            "execution_count": null,
            "outputs": []
        },
        {
            "cell_type": "markdown",
            "metadata": {},
            "source": [
                "- *Output:* \"To get the desired output from a model, it's important to give clear and specific instructions, and remember that longer prompts can actually be more helpful in providing context and clarity—just like how a detailed joke is often funnier!\"\n",
                "\n",
                "\n",
                "\n",
                "## Ask for structured output {.smaller}\n",
                "\n",
                "- Ask for a structured output (e.g. JSON, HTML, ...)\n",
                "\n",
                ""
            ]
        },
        {
            "cell_type": "code",
            "metadata": {},
            "source": [
                "prompt = f\"\"\"\n",
                "Generate a list of three made-up book titles along \\ \n",
                "with their authors and genres. \n",
                "Provide them in JSON format with the following keys: \n",
                "book_id, title, author, genre.\n",
                "\"\"\""
            ],
            "execution_count": null,
            "outputs": []
        },
        {
            "cell_type": "markdown",
            "metadata": {},
            "source": [
                ""
            ]
        },
        {
            "cell_type": "code",
            "metadata": {},
            "source": [
                "response = get_completion(prompt)\n",
                "print(response)"
            ],
            "execution_count": null,
            "outputs": []
        },
        {
            "cell_type": "markdown",
            "metadata": {},
            "source": [
                "## Output {.smaller}\n",
                "\n",
                "```json\n",
                "{\n",
                "  \"books\": [\n",
                "    {\n",
                "      \"book_id\": 1,\n",
                "      \"title\": \"The Enigma of Elysium\",\n",
                "      \"author\": \"Evelyn Sinclair\",\n",
                "      \"genre\": \"Mystery\"\n",
                "    },\n",
                "    {\n",
                "      \"book_id\": 2,\n",
                "      \"title\": \"Whispers in the Wind\",\n",
                "      \"author\": \"Nathaniel Blackwood\",\n",
                "      \"genre\": \"Fantasy\"\n",
                "    },\n",
                "    {\n",
                "      \"book_id\": 3,\n",
                "      \"title\": \"Echoes of the Past\",\n",
                "      \"author\": \"Amelia Hart\",\n",
                "      \"genre\": \"Romance\"\n",
                "    }\n",
                "  ]\n",
                "}\n",
                "\n",
                "```\n",
                "\n",
                "\n",
                "## Check whether conditions are satisfied {.smaller}\n"
            ]
        },
        {
            "cell_type": "code",
            "metadata": {},
            "source": [
                "text_1 = f\"\"\"\n",
                "Begin with a clear understanding of the desired outcome from the prompt, including the \\ \n",
                "kind of information and format you seek in the response. Familiarize yourself with the \\ \n",
                "capabilities and limitations of the model you're working with, ensuring you know its  \\ \n",
                "strengths and weaknesses in generating text. Draft a preliminary version of your prompt, \\ \n",
                "keeping it concise yet detailed enough to guide the model towards the desired outcome. \\ \n",
                "Test the preliminary prompt with the model, analyzing the generated responses for \\ \n",
                "accuracy, relevance, and completeness. Refine the prompt based on the feedback from the \\ \n",
                "initial testing, adjusting the language, structure, or additional details as necessary. \\ \n",
                "Perform multiple rounds of testing and refinement, continually honing the prompt for \\ \n",
                "better results. Document the final version of the prompt and any notable observations from \\ \n",
                "the testing process for future reference and learning.\n",
                "\"\"\""
            ],
            "execution_count": null,
            "outputs": []
        },
        {
            "cell_type": "code",
            "metadata": {},
            "source": [
                "prompt = f\"\"\"\n",
                "You will be provided with text delimited by triple backticks. \n",
                "If it contains a sequence of instructions, \\ \n",
                "re-write those instructions in the following format:\n",
                "\n",
                "Step 1 - ...\n",
                "Step 2 - …\n",
                "…\n",
                "Step N - …\n",
                "\n",
                "\n",
                "\n",
                "If the text does not contain a sequence of instructions, \\ \n",
                "then simply write \\\"No steps provided.\\\"\n",
                "\n",
                "```{text_1}```\n",
                "\"\"\""
            ],
            "execution_count": null,
            "outputs": []
        },
        {
            "cell_type": "markdown",
            "metadata": {},
            "source": [
                "## Response {.smaller}"
            ]
        },
        {
            "cell_type": "code",
            "metadata": {},
            "source": [
                "response = get_completion(prompt)\n",
                "\n",
                "print(\"Completion for Text 1:\")\n",
                "print(response)"
            ],
            "execution_count": null,
            "outputs": []
        },
        {
            "cell_type": "markdown",
            "metadata": {},
            "source": [
                "\n",
                "\n",
                "```markdown\n",
                "Completion for Text 1:  \n",
                "Step 1 - Begin with a clear understanding of the desired outcome from the prompt, including the kind of information and format you seek in the response.\n",
                "Step 2 - Familiarize yourself with the capabilities and limitations of the model you're working with, ensuring you know its strengths and weaknesses in generating text.\n",
                "Step 3 - Draft a preliminary version of your prompt, keeping it concise yet detailed enough to guide the model towards the desired outcome.\n",
                "Step 4 - Test the preliminary prompt with the model, analyzing the generated responses for accuracy, relevance, and completeness.\n",
                "Step 5 - Refine the prompt based on the feedback from the initial testing, adjusting the language, structure, or additional details as necessary.\n",
                "Step 6 - Perform multiple rounds of testing and refinement, continually honing the prompt for better results.\n",
                "Step 7 - Document the final version of the prompt and any notable observations from the testing process for future reference and learning.\n",
                "```\n",
                "\n",
                "## Use \"few-shot\" prompting with examples \n",
                "\n",
                "- In few-shot prompting, examples are included directly in the prompt. \n",
                "- These examples serve as a reference or guide for the model to understand the task at hand.\n",
                "- Few-shot prompting can be an effective technique in prompt engineering, helping to guide the model's responses without the need for additional training data or fine-tuning.\n",
                "\n",
                "## Few-shot example {.smaller}"
            ]
        },
        {
            "cell_type": "code",
            "metadata": {},
            "source": [
                "prompt = f\"\"\"\n",
                "Your task is to answer in a consistent style.\n",
                "\n",
                "<child>: Teach me about patience.\n",
                "\n",
                "<grandparent>: The river that carves the deepest \\ \n",
                "valley flows from a modest spring; the \\ \n",
                "grandest symphony originates from a single note; \\ \n",
                "the most intricate tapestry begins with a solitary thread.\n",
                "\n",
                "<child>: Teach me about resilience.\n",
                "\"\"\""
            ],
            "execution_count": null,
            "outputs": []
        },
        {
            "cell_type": "markdown",
            "metadata": {},
            "source": [
                ""
            ]
        },
        {
            "cell_type": "code",
            "metadata": {},
            "source": [
                "response = get_completion(prompt)\n",
                "print(response)"
            ],
            "execution_count": null,
            "outputs": []
        },
        {
            "cell_type": "markdown",
            "metadata": {},
            "source": [
                "- *Output:* \\<grandparent\\>: Resilience is the unwavering strength that emerges from facing adversity. It is the ability to bounce back, to rise above challenges, and to persevere in the face of obstacles. Just like a tree that bends but does not break in a storm, resilience allows us to weather the storms of life and come out stronger on the other side.\n",
                "\n",
                "\n",
                "# Principle 2: Time to think\n",
                "\n",
                "Give the model time to “think”\n",
                "\n",
                "## Specify the the steps and output {.smaller}"
            ]
        },
        {
            "cell_type": "code",
            "metadata": {},
            "source": [
                "text = f\"\"\"\n",
                "Prompt engineering is a pivotal aspect of harnessing the full \\ \n",
                "potential of language models such as OpenAI's ChatGPT. It serves \\ \n",
                "as a conduit between human intent and machine comprehension, \\ \n",
                "facilitating a clearer transmission of the task or information desired. \\ \n",
                "By meticulously crafting prompts, individuals can steer ChatGPT towards  \\ \n",
                "delivering more precise, pertinent, and beneficial responses. The iterative \\ \n",
                "process of refining prompts in prompt engineering not only augments the \\ \n",
                "interaction with ChatGPT but also furthers the overarching objective of \\ \n",
                "making AI more accessible and in tune with human requirements. Furthermore, \\ \n",
                "it furnishes invaluable insights into ChatGPT's behavior, thereby aiding \\ \n",
                "the continuous effort to enhance and fine-tune AI systems developed by OpenAI.\n",
                "\"\"\""
            ],
            "execution_count": null,
            "outputs": []
        },
        {
            "cell_type": "markdown",
            "metadata": {},
            "source": [
                "\n"
            ]
        },
        {
            "cell_type": "code",
            "metadata": {},
            "source": [
                "prompt_2 = f\"\"\"\n",
                "Your task is to perform the following actions: \n",
                "1 - Summarize the following text delimited by \n",
                "  <> with 1 sentence.\n",
                "2 - Translate the summary into German.\n",
                "3 - List each name in the German summary.\n",
                "4 - Output a json object that contains the \n",
                "  following keys: german_summary, num_names.\n",
                "\n",
                "Use the following format:\n",
                "Text: <text to summarize>\n",
                "Summary: <summary>\n",
                "Translation: <summary translation>\n",
                "Names: <list of names in German summary>\n",
                "Output JSON: <json with summary and num_names>\n",
                "\n",
                "Text: <{text}>\n",
                "\"\"\"\n",
                "response = get_completion(prompt_2)\n",
                "print(\"\\nCompletion for prompt 2:\")\n",
                "print(response)"
            ],
            "execution_count": null,
            "outputs": []
        },
        {
            "cell_type": "markdown",
            "metadata": {},
            "source": [
                "## Output {.smaller}\n",
                "\n",
                "Completion for prompt 2:\n",
                "Summary: Prompt engineering is crucial for maximizing the potential of language models like OpenAI's ChatGPT by improving the clarity and precision of responses, making AI more accessible and aligned with human needs, and providing valuable insights for enhancing and fine-tuning AI systems.\n",
                "\n",
                "Translation: Die Gestaltung von Anweisungen ist entscheidend, um das Potenzial von Sprachmodellen wie OpenAI's ChatGPT optimal zu nutzen, indem die Klarheit und Präzision der Antworten verbessert wird, was die Zugänglichkeit von KI erhöht und auf die Bedürfnisse der Menschen abstimmt, sowie wertvolle Einblicke für die Verbesserung und Feinabstimmung von KI-Systemen liefert.\n",
                "\n",
                "Names: ChatGPT, OpenAI\n",
                "\n",
                "Output JSON: \n",
                "{\n",
                "  \"german_summary\": \"Die Gestaltung von Anweisungen ist entscheidend, um das Potenzial von Sprachmodellen wie OpenAI's ChatGPT optimal zu nutzen, indem die Klarheit und Präzision der Antworten verbessert wird, was die Zugänglichkeit von KI erhöht und auf die Bedürfnisse der Menschen abstimmt, sowie wertvolle Einblicke für die Verbesserung und Feinabstimmung von KI-Systemen liefert.\",\n",
                "  \"num_names\": 2\n",
                "}\n",
                "\n",
                "\n",
                "## Work on own solution {.smaller}\n",
                "\n",
                "- Instruct the model to work out its own solution before rushing to a conclusion\n",
                "\n",
                ""
            ]
        },
        {
            "cell_type": "code",
            "metadata": {},
            "source": [
                "prompt = f\"\"\"\n",
                "Your task is to determine if the student's solution \\\n",
                "is correct or not.\n",
                "To solve the problem do the following:\n",
                "- First, work out your own solution to the problem. \n",
                "- Then compare your solution to the student's solution \\ \n",
                "and evaluate if the student's solution is correct or not. \n",
                "Don't decide if the student's solution is correct until \n",
                "you have done the problem yourself.\n",
                "\n",
                "Use the following format:\n",
                "\n",
                "Question:\n",
                "'''\n",
                "question here\n",
                "'''\n",
                "\n",
                "Student's solution:\n",
                "'''\n",
                "student's solution here\n",
                "'''\n",
                "\n",
                "Actual solution:\n",
                "'''\n",
                "steps to work out the solution and your solution here\n",
                "'''\n",
                "\n",
                "Is the student's solution the same as actual solution \\\n",
                "just calculated:\n",
                "'''\n",
                "yes or no\n",
                "'''\n",
                "\n",
                "Student grade:\n",
                "'''\n",
                "correct or incorrect\n",
                "'''\n",
                "\n",
                "Question:\n",
                "'''\n",
                "A bat and a ball cost $1.10 in total. \n",
                "The bat costs $1.00 more than the ball. \n",
                "How much does the ball cost?\n",
                "''' \n",
                "Student's solution:\n",
                "'''\n",
                "1. The bat costs $1.00\n",
                "2. Therefore, the ball costs $0.10 \n",
                "'''\n",
                "\n",
                "Actual solution:\n",
                "\"\"\"\n",
                "response = get_completion(prompt)\n",
                "print(response)"
            ],
            "execution_count": null,
            "outputs": []
        },
        {
            "cell_type": "markdown",
            "metadata": {},
            "source": [
                "## Output {.smaller}\n",
                "\n",
                "Let's assume the cost of the ball is x dollars. \n",
                "\n",
                "According to the problem, the bat costs $1.00 more than the ball, so the cost of the bat is x + $1.00. \n",
                "The total cost of the bat and the ball is $1.10, so we can write the equation: \n",
                "\n",
                "x + (x + $1.00) = $1.10  \n",
                "Simplifying the equation, we get:  \n",
                "2x + $1.00 = $1.10  \n",
                "Subtracting $1.00 from both sides, we get:  \n",
                "2x = $0.10  \n",
                "Dividing both sides by 2, we get:  \n",
                "x = $0.05  \n",
                "Therefore, the ball costs $0.05. \n",
                "'''  \n",
                "Is the student's solution the same as actual solution just calculated:  \n",
                "'''  \n",
                "No  \n",
                "'''  \n",
                "Student grade:  \n",
                "'''  \n",
                "Incorrect  \n",
                "'''  \n",
                "\n",
                "\n",
                "# Model Limitations: Hallucinations\n",
                "\n",
                "The generation of factually incorrect or nonsensical information that wasn't present in the training data.\n",
                "\n",
                "## Causes\n",
                "\n",
                "- **Overgeneralization**: LLMs might overgeneralize from the patterns they have learned in the training data.\n",
                "\n",
                "- **Lack of Source of Truth**: Without a reliable source of truth during generation, LLMs can drift from accurate information.\n",
                "\n",
                "- **Insufficient Context**: Sometimes, the context provided to the model may not be sufficient for accurate generation.\n",
                "\n",
                "\n",
                "## Mitigation Strategies\n",
                "\n",
                "- **Data Augmentation**: Including a diverse range of data can help in reducing hallucinations.\n",
                "\n",
                "- **External Knowledge Bases**: Linking LLMs to external knowledge bases can provide a source of truth to verify generated information.\n",
                "\n",
                "- **User Feedback**: Incorporating user feedback can also help in identifying and reducing hallucinations.\n",
                "\n",
                "## Example {.smaller}\n",
                "\n",
                "- Boie is a real company, the product name is not real."
            ]
        },
        {
            "cell_type": "code",
            "metadata": {},
            "source": [
                "prompt = f\"\"\"\n",
                "Tell me about AeroGlide UltraSlim Smart Toothbrush by Boie. Use about 50 words.\n",
                "\"\"\"\n",
                "response = get_completion(prompt)\n",
                "print(response)"
            ],
            "execution_count": null,
            "outputs": []
        }
    ],
    "metadata": {
        "kernelspec": {
            "name": "python3",
            "language": "python",
            "display_name": "Python 3 (ipykernel)"
        }
    },
    "nbformat": 4,
    "nbformat_minor": 4
}