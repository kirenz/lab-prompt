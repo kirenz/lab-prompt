{
    "cells": [
        {
            "cell_type": "markdown",
            "metadata": {},
            "source": [
                "# Iterative Prompt Development\n",
                "\n",
                "In this tutorial, we'll iteratively analyze and refine our prompts to generate marketing copy from a product fact sheet.\n",
                "\n",
                "# Setup\n",
                "\n",
                "## API key and Python libaries\n"
            ]
        },
        {
            "cell_type": "code",
            "metadata": {},
            "source": [
                "from IPython.display import display, HTML\n",
                "import openai\n",
                "import os\n",
                "\n",
                "from dotenv import load_dotenv, find_dotenv\n",
                "_ = load_dotenv(find_dotenv())  # read local .env file\n",
                "\n",
                "openai.api_key = os.getenv('OPENAI_API_KEY')"
            ],
            "execution_count": null,
            "outputs": []
        },
        {
            "cell_type": "markdown",
            "metadata": {},
            "source": [
                "## Helper function {.smaller}\n",
                "\n",
                "- This helper function will make it easier to use prompts and look at the generated outputs:\n",
                "- For cost efficiency reasons, we will use OpenAI's `gpt-3.5-turbo` model and the [chat completions endpoint](https://platform.openai.com/docs/guides/chat). \n",
                "\n",
                ""
            ]
        },
        {
            "cell_type": "code",
            "metadata": {},
            "source": [
                "def get_completion(prompt, model=\"gpt-3.5-turbo\"):\n",
                "    messages = [{\"role\": \"user\", \"content\": prompt}]\n",
                "    response = openai.ChatCompletion.create(\n",
                "        model=model,\n",
                "        messages=messages,\n",
                "        temperature=0, \n",
                "    )\n",
                "    return response.choices[0].message[\"content\"]\n"
            ],
            "execution_count": null,
            "outputs": []
        },
        {
            "cell_type": "markdown",
            "metadata": {},
            "source": [
                "# Use case example\n",
                "\n",
                "## Marketing product description {.smaller }\n",
                "\n",
                "- Generate a marketing product description from a product fact sheet\n",
                "\n",
                ""
            ]
        },
        {
            "cell_type": "code",
            "metadata": {},
            "source": [
                "fact_sheet_chair = \"\"\"\n",
                "OVERVIEW\n",
                "- Part of a beautiful family of mid-century inspired office furniture, \n",
                "including filing cabinets, desks, bookcases, meeting tables, and more.\n",
                "- Several options of shell color and base finishes.\n",
                "- Available with plastic back and front upholstery (SWC-100) \n",
                "or full upholstery (SWC-110) in 10 fabric and 6 leather options.\n",
                "- Base finish options are: stainless steel, matte black, \n",
                "gloss white, or chrome.\n",
                "- Chair is available with or without armrests.\n",
                "- Suitable for home or business settings.\n",
                "- Qualified for contract use.\n",
                "\n",
                "CONSTRUCTION\n",
                "- 5-wheel plastic coated aluminum base.\n",
                "- Pneumatic chair adjust for easy raise/lower action.\n",
                "\n",
                "DIMENSIONS\n",
                "- WIDTH 53 CM | 20.87”\n",
                "- DEPTH 51 CM | 20.08”\n",
                "- HEIGHT 80 CM | 31.50”\n",
                "- SEAT HEIGHT 44 CM | 17.32”\n",
                "- SEAT DEPTH 41 CM | 16.14”\n",
                "\n",
                "OPTIONS\n",
                "- Soft or hard-floor caster options.\n",
                "- Two choices of seat foam densities: \n",
                " medium (1.8 lb/ft3) or high (2.8 lb/ft3)\n",
                "- Armless or 8 position PU armrests \n",
                "\n",
                "MATERIALS\n",
                "SHELL BASE GLIDER\n",
                "- Cast Aluminum with modified nylon PA6/PA66 coating.\n",
                "- Shell thickness: 10 mm.\n",
                "SEAT\n",
                "- HD36 foam\n",
                "\n",
                "COUNTRY OF ORIGIN\n",
                "- Italy\n",
                "\"\"\""
            ],
            "execution_count": null,
            "outputs": []
        },
        {
            "cell_type": "markdown",
            "metadata": {},
            "source": [
                "# Initial prompt {.smaller }\n"
            ]
        },
        {
            "cell_type": "code",
            "metadata": {},
            "source": [
                "prompt = f\"\"\"\n",
                "Your task is to help a marketing team create a \n",
                "description for a retail website of a product based \n",
                "on a technical fact sheet.\n",
                "\n",
                "Write a product description based on the information \n",
                "provided in the technical specifications delimited by \n",
                "triple backticks.\n",
                "\n",
                "Technical specifications: ```{fact_sheet_chair}```\n",
                "\"\"\"\n",
                "\n",
                "response = get_completion(prompt)\n",
                "print(response)"
            ],
            "execution_count": null,
            "outputs": []
        },
        {
            "cell_type": "markdown",
            "metadata": {},
            "source": [
                "## Output {.smaller}\n",
                "\n",
                "\n",
                "Introducing our stunning mid-century inspired office chair, the perfect addition to any home or business setting. This chair is part of a beautiful family of office furniture, including filing cabinets, desks, bookcases, meeting tables, and more, all designed with a timeless mid-century aesthetic.\n",
                "\n",
                "One of the standout features of this chair is the variety of customization options available. You can choose from several shell colors and base finishes to perfectly match your existing decor. The chair is available with either plastic back and front upholstery or full upholstery in a range of 10 fabric and 6 leather options, allowing you to create a look that is uniquely yours.\n",
                "\n",
                "The chair is also available with or without armrests, giving you the flexibility to choose the option that best suits your needs. The base finish options include stainless steel, matte black, gloss white, or chrome, ensuring that you can find the perfect match for your space.\n",
                "\n",
                "In terms of construction, this chair is built to last. It features a 5-wheel plastic coated aluminum base, providing stability and mobility. The pneumatic chair adjust allows for easy raise and lower action, ensuring optimal comfort throughout the day.\n",
                "\n",
                "When it comes to dimensions, this chair is designed with both style and comfort in mind. With a width of 53 cm (20.87\"), depth of 51 cm (20.08\"), and height of 80 cm (31.50\"), it offers ample space without overwhelming your space. The seat height is 44 cm (17.32\") and the seat depth is 41 cm (16.14\"), providing a comfortable seating experience for users of all heights.\n",
                "\n",
                "We understand that every space is unique, which is why we offer a range of options to further customize your chair. You can choose between soft or hard-floor caster options, ensuring that your chair glides smoothly across any surface. Additionally, you have the choice of two seat foam densities: medium (1.8 lb/ft3) or high (2.8 lb/ft3), allowing you to select the level of support that suits your preferences.\n",
                "\n",
                "The materials used in the construction of this chair are of the highest quality. The shell base glider is made from cast aluminum with a modified nylon PA6/PA66 coating, ensuring durability and longevity. The shell thickness is 10 mm, providing a sturdy and reliable foundation. The seat is made from HD36 foam, known for its comfort and resilience.\n",
                "\n",
                "Finally, this chair is proudly made in Italy, a country renowned for its craftsmanship and attention to detail. With its combination of style, functionality, and quality, this chair is the perfect choice for those seeking a mid-century inspired office chair that will elevate any space.\n",
                "\n",
                "Experience the timeless elegance of our mid-century inspired office chair and transform your workspace today.\n",
                "\n",
                "\n",
                "## Issue: Text is too long {.smaller}\n",
                "\n",
                "- *Issue*: The text is too long and we want to limit the number of words/sentences/characters.\n",
                "\n",
                "- *Solution*: Instructing the model to generate a specific number of words (does not always work with high precision)\n",
                "  - Example: Summarize the text delimited by triple quotes in about 50 word\n",
                "\n",
                "- *Alternative solution*: Generate outputs with a specific number of paragraphs or bullet points.\n",
                "  - Example: Summarize the text delimited by triple quotes in 2 paragraphs.\n",
                "  - Example: Summarize the text delimited by triple quotes in 3 bullet points.\n",
                "\n",
                "# Prompt Improvement 1\n",
                "\n",
                "- Specify the desired length of the output: \"Use at most 50 words.\"\n",
                "\n",
                ""
            ]
        },
        {
            "cell_type": "code",
            "metadata": {},
            "source": [
                "prompt = f\"\"\"\n",
                "Your task is to help a marketing team create a \n",
                "description for a retail website of a product based \n",
                "on a technical fact sheet.\n",
                "\n",
                "Write a product description based on the information \n",
                "provided in the technical specifications delimited by \n",
                "triple backticks.\n",
                "\n",
                "Use at most 50 words.\n",
                "\n",
                "Technical specifications: ```{fact_sheet_chair}```\n",
                "\"\"\"\n",
                "response = get_completion(prompt)\n",
                "print(response)"
            ],
            "execution_count": null,
            "outputs": []
        },
        {
            "cell_type": "markdown",
            "metadata": {},
            "source": [
                "## Output\n",
                "\n",
                "Introducing our mid-century inspired office chair, part of a stunning furniture collection. With various color and finish options, choose between plastic or full upholstery in fabric or leather. The chair features a durable aluminum base, pneumatic chair adjustment, and is suitable for both home and business settings. Made in Italy.\n",
                "\n",
                "- Issue: Text focuses on the wrong details\n",
                "\n",
                "\n",
                "# Prompt Improvement 2 {.smaller}\n",
                "\n",
                "- Ask to focus on the aspects that are relevant to the intended audience.\n",
                "\n",
                ""
            ]
        },
        {
            "cell_type": "code",
            "metadata": {},
            "source": [
                "prompt = f\"\"\"\n",
                "Your task is to help a marketing team create a \n",
                "description for a retail website of a product based \n",
                "on a technical fact sheet.\n",
                "\n",
                "Write a product description based on the information \n",
                "provided in the technical specifications delimited by \n",
                "triple backticks.\n",
                "\n",
                "The description is intended for furniture retailers, \n",
                "so should be technical in nature and focus on the \n",
                "materials the product is constructed from.\n",
                "\n",
                "At the end of the description, include every 7-character \n",
                "Product ID in the technical specification.\n",
                "\n",
                "Use at most 50 words.\n",
                "\n",
                "Technical specifications: ```{fact_sheet_chair}```\n",
                "\"\"\"\n",
                "response = get_completion(prompt)\n",
                "print(response)"
            ],
            "execution_count": null,
            "outputs": []
        },
        {
            "cell_type": "markdown",
            "metadata": {},
            "source": [
                "## Output\n",
                "\n",
                "\n",
                "Introducing our mid-century inspired office chair, part of a beautiful furniture collection. With various shell colors and base finishes, it offers versatility for any setting. Choose between plastic or full upholstery in a range of fabric and leather options. The chair features a durable aluminum base and pneumatic chair adjustment for easy use. Made in Italy.\n",
                "\n",
                "\n",
                "- Issue: \n",
                "  - Lets's assume oure description needs a table of dimensions\n",
                "  - Output should be in HTML\n",
                "\n",
                "\n",
                "# Prompt Improvement 3 {.smaller}\n",
                "\n",
                "- Ask it to extract information and organize it in a table in HTML.\n",
                "\n",
                ""
            ]
        },
        {
            "cell_type": "code",
            "metadata": {
                "output-location": "slide"
            },
            "source": [
                "prompt = f\"\"\"\n",
                "Your task is to help a marketing team create a \n",
                "description for a retail website of a product based \n",
                "on a technical fact sheet.\n",
                "\n",
                "Write a product description based on the information \n",
                "provided in the technical specifications delimited by \n",
                "triple backticks.\n",
                "\n",
                "The description is intended for furniture retailers, \n",
                "so should be technical in nature and focus on the \n",
                "materials the product is constructed from.\n",
                "\n",
                "At the end of the description, include every 7-character \n",
                "Product ID in the technical specification.\n",
                "\n",
                "After the description, include a table that gives the \n",
                "product's dimensions. The table should have two columns.\n",
                "In the first column include the name of the dimension. \n",
                "In the second column include the measurements in inches only.\n",
                "\n",
                "Give the table the title 'Product Dimensions'.\n",
                "\n",
                "Format everything as HTML that can be used in a website. \n",
                "Place the description in a <div> element.\n",
                "\n",
                "Technical specifications: ```{fact_sheet_chair}```\n",
                "\"\"\"\n",
                "\n",
                "response = get_completion(prompt)\n",
                "print(response)"
            ],
            "execution_count": null,
            "outputs": []
        }
    ],
    "metadata": {
        "kernelspec": {
            "name": "python3",
            "language": "python",
            "display_name": "Python 3 (ipykernel)"
        }
    },
    "nbformat": 4,
    "nbformat_minor": 4
}