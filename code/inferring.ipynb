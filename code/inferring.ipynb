{
    "cells": [
        {
            "cell_type": "markdown",
            "metadata": {},
            "source": [
                "# Inferring\n",
                "\n",
                "In this tutorial, you will infer sentiment and topics from product reviews and news articles.\n",
                "\n",
                "\n",
                "\n",
                "# Setup\n",
                "\n",
                "## API key and Python libaries\n"
            ]
        },
        {
            "cell_type": "code",
            "metadata": {},
            "source": [
                "import openai\n",
                "import os\n",
                "\n",
                "from dotenv import load_dotenv, find_dotenv\n",
                "_ = load_dotenv(find_dotenv())  \n",
                "\n",
                "openai.api_key = os.getenv('OPENAI_API_KEY')"
            ],
            "execution_count": null,
            "outputs": []
        },
        {
            "cell_type": "markdown",
            "metadata": {},
            "source": [
                "## Helper function\n"
            ]
        },
        {
            "cell_type": "code",
            "metadata": {},
            "source": [
                "def get_completion(prompt, model=\"gpt-3.5-turbo\"):\n",
                "    messages = [{\"role\": \"user\", \"content\": prompt}]\n",
                "    response = openai.ChatCompletion.create(\n",
                "        model=model,\n",
                "        messages=messages,\n",
                "        temperature=0, \n",
                "    )\n",
                "    return response.choices[0].message[\"content\"]\n"
            ],
            "execution_count": null,
            "outputs": []
        },
        {
            "cell_type": "markdown",
            "metadata": {},
            "source": [
                "# Product review example {.smaller}"
            ]
        },
        {
            "cell_type": "code",
            "metadata": {},
            "source": [
                "lamp_review = \"\"\"\n",
                "Needed a nice lamp for my bedroom, and this one had \\\n",
                "additional storage and not too high of a price point. \\\n",
                "Got it fast.  The string to our lamp broke during the \\\n",
                "transit and the company happily sent over a new one. \\\n",
                "Came within a few days as well. It was easy to put \\\n",
                "together.  I had a missing part, so I contacted their \\\n",
                "support and they very quickly got me the missing piece! \\\n",
                "Lumina seems to me to be a great company that cares \\\n",
                "about their customers and products!!\n",
                "\"\"\""
            ],
            "execution_count": null,
            "outputs": []
        },
        {
            "cell_type": "markdown",
            "metadata": {},
            "source": [
                "# Infer sentiment \n",
                "\n",
                "Sentiment analysis is a natural language processing technique that identifies the polarity (e.g. positive) of a given text. \n",
                "\n",
                "## Sentiment?"
            ]
        },
        {
            "cell_type": "code",
            "metadata": {},
            "source": [
                "prompt = f\"\"\"\n",
                "What is the sentiment of the following product review, \n",
                "which is delimited with triple backticks?\n",
                "\n",
                "Review text: '''{lamp_review}'''\n",
                "\"\"\"\n",
                "response = get_completion(prompt)\n",
                "print(response)"
            ],
            "execution_count": null,
            "outputs": []
        },
        {
            "cell_type": "markdown",
            "metadata": {},
            "source": [
                "- Output: The sentiment of the product review is positive.\n",
                "\n",
                "\n",
                "## Positive or negative?"
            ]
        },
        {
            "cell_type": "code",
            "metadata": {},
            "source": [
                "prompt = f\"\"\"\n",
                "What is the sentiment of the following product review, \n",
                "which is delimited with triple backticks?\n",
                "\n",
                "Give your answer as a single word, either \"positive\" \\\n",
                "or \"negative\".\n",
                "\n",
                "Review text: '''{lamp_review}'''\n",
                "\"\"\"\n",
                "response = get_completion(prompt)\n",
                "print(response)"
            ],
            "execution_count": null,
            "outputs": []
        },
        {
            "cell_type": "markdown",
            "metadata": {},
            "source": [
                "- Output: positive\n",
                "\n",
                "## Identify types of emotions"
            ]
        },
        {
            "cell_type": "code",
            "metadata": {},
            "source": [
                "prompt = f\"\"\"\n",
                "Identify a list of emotions that the writer of the \\\n",
                "following review is expressing. Include no more than \\\n",
                "five items in the list. Format your answer as a list of \\\n",
                "lower-case words separated by commas.\n",
                "\n",
                "Review text: '''{lamp_review}'''\n",
                "\"\"\"\n",
                "response = get_completion(prompt)\n",
                "print(response)"
            ],
            "execution_count": null,
            "outputs": []
        },
        {
            "cell_type": "markdown",
            "metadata": {},
            "source": [
                "- Output: happy, satisfied, impressed, grateful, pleased\n",
                "\n",
                "## Identify anger"
            ]
        },
        {
            "cell_type": "code",
            "metadata": {},
            "source": [
                "prompt = f\"\"\"\n",
                "Is the writer of the following review expressing anger?\\\n",
                "The review is delimited with triple backticks. \\\n",
                "Give your answer as either yes or no.\n",
                "\n",
                "Review text: '''{lamp_review}'''\n",
                "\"\"\"\n",
                "response = get_completion(prompt)\n",
                "print(response)"
            ],
            "execution_count": null,
            "outputs": []
        },
        {
            "cell_type": "markdown",
            "metadata": {},
            "source": [
                "- Output: No\n",
                "\n",
                "## Extract product and company name {.smaller}"
            ]
        },
        {
            "cell_type": "code",
            "metadata": {},
            "source": [
                "prompt = f\"\"\"\n",
                "Identify the following items from the review text: \n",
                "- Item purchased by reviewer\n",
                "- Company that made the item\n",
                "\n",
                "The review is delimited with triple backticks. \\\n",
                "Format your response as a JSON object with \\\n",
                "\"Item\" and \"Brand\" as the keys. \n",
                "If the information isn't present, use \"unknown\" \\\n",
                "as the value.\n",
                "Make your response as short as possible.\n",
                "  \n",
                "Review text: '''{lamp_review}'''\n",
                "\"\"\"\n",
                "response = get_completion(prompt)\n",
                "print(response)"
            ],
            "execution_count": null,
            "outputs": []
        },
        {
            "cell_type": "markdown",
            "metadata": {},
            "source": [
                "\n",
                "\n",
                "```JSON\n",
                "{\n",
                "  \"Item\": \"lamp\",\n",
                "  \"Brand\": \"Lumina\"\n",
                "}\n",
                "```\n",
                "\n",
                "\n",
                "## Doing multiple tasks at once"
            ]
        },
        {
            "cell_type": "code",
            "metadata": {},
            "source": [
                "prompt = f\"\"\"\n",
                "Identify the following items from the review text: \n",
                "- Sentiment (positive or negative)\n",
                "- Is the reviewer expressing anger? (true or false)\n",
                "- Item purchased by reviewer\n",
                "- Company that made the item\n",
                "\n",
                "The review is delimited with triple backticks. \\\n",
                "Format your response as a JSON object with \\\n",
                "\"Sentiment\", \"Anger\", \"Item\" and \"Brand\" as the keys.\n",
                "If the information isn't present, use \"unknown\" \\\n",
                "as the value.\n",
                "Make your response as short as possible.\n",
                "Format the Anger value as a boolean.\n",
                "\n",
                "Review text: '''{lamp_review}'''\n",
                "\"\"\"\n",
                "response = get_completion(prompt)\n",
                "print(response)"
            ],
            "execution_count": null,
            "outputs": []
        },
        {
            "cell_type": "markdown",
            "metadata": {},
            "source": [
                "## Output\n",
                "\n",
                "```JSON\n",
                "{\n",
                "  \"Sentiment\": \"positive\",\n",
                "  \"Anger\": false,\n",
                "  \"Item\": \"lamp\",\n",
                "  \"Brand\": \"Lumina\"\n",
                "}\n",
                "```\n",
                "\n",
                "\n",
                "# Inferring topics\n",
                "\n",
                "We want the model to find topics in a given text\n",
                "\n",
                "## Example text {.smaller}"
            ]
        },
        {
            "cell_type": "code",
            "metadata": {},
            "source": [
                "story = \"\"\"\n",
                "In a recent survey conducted by the government, \n",
                "public sector employees were asked to rate their level \n",
                "of satisfaction with the department they work at. \n",
                "The results revealed that NASA was the most popular \n",
                "department with a satisfaction rating of 95%.\n",
                "\n",
                "One NASA employee, John Smith, commented on the findings, \n",
                "stating, \"I'm not surprised that NASA came out on top. \n",
                "It's a great place to work with amazing people and \n",
                "incredible opportunities. I'm proud to be a part of \n",
                "such an innovative organization.\"\n",
                "\n",
                "The results were also welcomed by NASA's management team, \n",
                "with Director Tom Johnson stating, \"We are thrilled to \n",
                "hear that our employees are satisfied with their work at NASA. \n",
                "We have a talented and dedicated team who work tirelessly \n",
                "to achieve our goals, and it's fantastic to see that their \n",
                "hard work is paying off.\"\n",
                "\n",
                "The survey also revealed that the \n",
                "Social Security Administration had the lowest satisfaction \n",
                "rating, with only 45 percent of employees indicating they were \n",
                "satisfied with their job. The government has pledged to \n",
                "address the concerns raised by employees in the survey and \n",
                "work towards improving job satisfaction across all departments.\n",
                "\"\"\""
            ],
            "execution_count": null,
            "outputs": []
        },
        {
            "cell_type": "markdown",
            "metadata": {},
            "source": [
                "## Let's infer 5 topics {.smaller}"
            ]
        },
        {
            "cell_type": "code",
            "metadata": {},
            "source": [
                "prompt = f\"\"\"\n",
                "Determine five topics that are being discussed in the \\\n",
                "following text, which is delimited by triple backticks.\n",
                "\n",
                "Make each item one or two words long. \n",
                "\n",
                "Provide your response as a Python list separated by commas.\n",
                "\n",
                "Text sample: '''{story}'''\n",
                "\"\"\"\n",
                "response = get_completion(prompt)\n",
                "print(response)"
            ],
            "execution_count": null,
            "outputs": []
        },
        {
            "cell_type": "markdown",
            "metadata": {},
            "source": [
                "\n",
                "\n",
                "```Python\n",
                "['survey', 'satisfaction', 'NASA', 'Social Security Administration', 'job satisfaction']\n",
                "```\n",
                "\n",
                "\n",
                "## We create a topic list \n"
            ]
        },
        {
            "cell_type": "code",
            "metadata": {},
            "source": [
                "topic_list = [\n",
                "    \"nasa\", \"local government\", \"engineering\",\n",
                "    \"employee satisfaction\", \"federal government\"\n",
                "]"
            ],
            "execution_count": null,
            "outputs": []
        },
        {
            "cell_type": "markdown",
            "metadata": {},
            "source": [
                "## Give answer as list with 0 and 1"
            ]
        },
        {
            "cell_type": "code",
            "metadata": {},
            "source": [
                "prompt = f\"\"\"\n",
                "Determine whether each item in the following list of \\\n",
                "topics is a topic in the text below, which\n",
                "is delimited with triple backticks.\n",
                "\n",
                "Give your answer as list with 0 or 1 for each topic.\\\n",
                "\n",
                "List of topics: {\", \".join(topic_list)}\n",
                "\n",
                "Text sample: ```{story}```\n",
                "\"\"\"\n",
                "response = get_completion(prompt)\n",
                "print(response)"
            ],
            "execution_count": null,
            "outputs": []
        }
    ],
    "metadata": {
        "kernelspec": {
            "name": "python3",
            "language": "python",
            "display_name": "Python 3 (ipykernel)"
        }
    },
    "nbformat": 4,
    "nbformat_minor": 4
}