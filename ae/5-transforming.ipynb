{
    "cells": [
        {
            "cell_type": "markdown",
            "metadata": {},
            "source": [
                "# Transforming\n",
                "\n",
                "In this tutorial, we will explore how to use Large Language Models for text transformation tasks such as language translation, spelling and grammar checking, tone adjustment, and format conversion.\n",
                "\n",
                "# Setup\n",
                "\n",
                "## API key and Python libaries"
            ]
        },
        {
            "cell_type": "code",
            "execution_count": null,
            "metadata": {},
            "outputs": [],
            "source": [
                "from redlines import Redlines\n",
                "from IPython.display import display, Markdown, Latex, HTML, JSON\n",
                "import openai\n",
                "import os\n",
                "\n",
                "from dotenv import load_dotenv, find_dotenv\n",
                "_ = load_dotenv(find_dotenv())  \n",
                "\n",
                "openai.api_key = os.getenv('OPENAI_API_KEY')"
            ]
        },
        {
            "cell_type": "code",
            "execution_count": null,
            "metadata": {},
            "outputs": [],
            "source": [
                "def get_completion(prompt, model=\"gpt-3.5-turbo-1106\", temperature=0):\n",
                "    messages = [{\"role\": \"user\", \"content\": prompt}]\n",
                "    response = openai.ChatCompletion.create(\n",
                "        model=model,\n",
                "        messages=messages,\n",
                "        temperature=temperature,\n",
                "    )\n",
                "    return response.choices[0].message[\"content\"]\n"
            ]
        },
        {
            "cell_type": "markdown",
            "metadata": {},
            "source": [
                "# Translation\n",
                "\n",
                "- ChatGPT is trained with sources in many languages\n",
                "- This gives the model the ability to do translation\n",
                "\n",
                "\n",
                "## Translate  text"
            ]
        },
        {
            "cell_type": "code",
            "execution_count": null,
            "metadata": {},
            "outputs": [],
            "source": []
        },
        {
            "cell_type": "markdown",
            "metadata": {},
            "source": [
                "\n",
                "## Which language is this?"
            ]
        },
        {
            "cell_type": "code",
            "execution_count": null,
            "metadata": {},
            "outputs": [],
            "source": []
        },
        {
            "cell_type": "markdown",
            "metadata": {},
            "source": [
                "## Translate with style"
            ]
        },
        {
            "cell_type": "code",
            "execution_count": null,
            "metadata": {},
            "outputs": [],
            "source": []
        },
        {
            "cell_type": "markdown",
            "metadata": {},
            "source": [
                "\n",
                "\n",
                "# Universal Translator\n",
                "\n",
                "## Context\n",
                "\n",
                "- Imagine you are in charge of IT at a large multinational e-commerce company\n",
                "- Users are messaging you with IT issues in all their native languages\n",
                "- Your staff is from all over the world and speaks only their native languages\n",
                "- You need a universal translator!\n",
                "\n",
                "## User messages"
            ]
        },
        {
            "cell_type": "code",
            "execution_count": null,
            "metadata": {},
            "outputs": [],
            "source": [
                "user_messages = [\n",
                "    \"La performance du système est plus lente que d'habitude.\",\n",
                "    \"Mi monitor tiene píxeles que no se iluminan.\",\n",
                "    \"Il mio mouse non funziona\",\n",
                "    \"Mój klawisz Ctrl jest zepsuty\",\n",
                "    \"我的屏幕在闪烁\"\n",
                "]"
            ]
        },
        {
            "cell_type": "markdown",
            "metadata": {},
            "source": [
                "## Translations"
            ]
        },
        {
            "cell_type": "code",
            "execution_count": null,
            "metadata": {},
            "outputs": [],
            "source": []
        },
        {
            "cell_type": "markdown",
            "metadata": {},
            "source": [
                "\n",
                "# Tone Transformation\n",
                "\n",
                "- Writing can vary based on the intended audience. \n",
                "- ChatGPT can produce different tones.\n",
                "\n",
                "## From slang to business tone"
            ]
        },
        {
            "cell_type": "code",
            "execution_count": null,
            "metadata": {},
            "outputs": [],
            "source": []
        },
        {
            "cell_type": "code",
            "execution_count": null,
            "metadata": {},
            "outputs": [],
            "source": []
        },
        {
            "cell_type": "markdown",
            "metadata": {},
            "source": [
                "# Format Conversion\n",
                "\n",
                "- ChatGPT can translate between formats. \n",
                "- The prompt should describe the input and output formats.\n",
                "\n",
                "## From dictionary to HTML "
            ]
        },
        {
            "cell_type": "code",
            "execution_count": null,
            "metadata": {},
            "outputs": [],
            "source": [
                "data_json = {\"restaurant employees\": [\n",
                "    {\"name\": \"Shyam\", \"email\": \"shyamjaiswal@gmail.com\"},\n",
                "    {\"name\": \"Bob\", \"email\": \"bob32@gmail.com\"},\n",
                "    {\"name\": \"Jai\", \"email\": \"jai87@gmail.com\"}\n",
                "]}\n"
            ]
        },
        {
            "cell_type": "code",
            "execution_count": null,
            "metadata": {},
            "outputs": [],
            "source": []
        },
        {
            "cell_type": "code",
            "execution_count": null,
            "metadata": {},
            "outputs": [],
            "source": []
        },
        {
            "cell_type": "markdown",
            "metadata": {},
            "source": [
                "# Spellcheck & Grammar check\n",
                "\n",
                "To signal to the LLM that you want it to proofread your text, you instruct the model to 'proofread' or 'proofread and correct'\n",
                "\n",
                "## Text examples\n",
                "\n",
                "- Text examples are taken from [Writing Prompts](https://writingprompts.com/bad-grammar-examples/)\n"
            ]
        },
        {
            "cell_type": "code",
            "execution_count": null,
            "metadata": {},
            "outputs": [],
            "source": []
        },
        {
            "cell_type": "markdown",
            "metadata": {},
            "source": [
                "## Proofreading"
            ]
        },
        {
            "cell_type": "code",
            "execution_count": null,
            "metadata": {},
            "outputs": [],
            "source": []
        },
        {
            "cell_type": "markdown",
            "metadata": {},
            "source": [
                "## Review "
            ]
        },
        {
            "cell_type": "code",
            "execution_count": null,
            "metadata": {},
            "outputs": [],
            "source": []
        },
        {
            "cell_type": "markdown",
            "metadata": {},
            "source": [
                "## Proofreading\n"
            ]
        },
        {
            "cell_type": "code",
            "execution_count": null,
            "metadata": {},
            "outputs": [],
            "source": []
        },
        {
            "cell_type": "markdown",
            "metadata": {},
            "source": [
                "## Display differences\n",
                "\n",
                "- Use the following code to display the dfferences between the two texts:"
            ]
        },
        {
            "cell_type": "code",
            "execution_count": null,
            "metadata": {},
            "outputs": [],
            "source": []
        },
        {
            "cell_type": "markdown",
            "metadata": {},
            "source": [
                "## Make it more compelling\n"
            ]
        },
        {
            "cell_type": "code",
            "execution_count": null,
            "metadata": {},
            "outputs": [],
            "source": []
        },
        {
            "cell_type": "markdown",
            "metadata": {},
            "source": [
                "## Show differences"
            ]
        },
        {
            "cell_type": "code",
            "execution_count": null,
            "metadata": {},
            "outputs": [],
            "source": []
        }
    ],
    "metadata": {
        "kernelspec": {
            "display_name": "Python 3 (ipykernel)",
            "language": "python",
            "name": "python3"
        }
    },
    "nbformat": 4,
    "nbformat_minor": 4
}
