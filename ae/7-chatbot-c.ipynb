{
    "cells": [
        {
            "cell_type": "markdown",
            "metadata": {},
            "source": [
                "# Chatbot\n",
                "\n",
                "In this tutorial, you will explore how you can utilize the chat format to have extended conversations with chatbots personalized or specialized for specific tasks or behaviors.\n",
                "\n",
                "# Setup\n",
                "\n",
                "## Python"
            ]
        },
        {
            "cell_type": "code",
            "execution_count": null,
            "metadata": {},
            "outputs": [],
            "source": [
                "import panel as pn  # GUI\n",
                "import os\n",
                "import openai\n",
                "from dotenv import load_dotenv, find_dotenv\n",
                "_ = load_dotenv(find_dotenv())\n",
                "openai.api_key = os.getenv('OPENAI_API_KEY')"
            ]
        },
        {
            "cell_type": "code",
            "execution_count": null,
            "metadata": {},
            "outputs": [],
            "source": [
                "def get_completion(prompt, model=\"gpt-3.5-turbo-1106\"):\n",
                "    messages = [{\"role\": \"user\", \"content\": prompt}]\n",
                "    response = openai.ChatCompletion.create(\n",
                "        model=model,\n",
                "        messages=messages,\n",
                "        temperature=0, \n",
                "    )\n",
                "    return response.choices[0].message[\"content\"]"
            ]
        },
        {
            "cell_type": "markdown",
            "metadata": {},
            "source": [
                "## Helper function 2 {.smaller}\n"
            ]
        },
        {
            "cell_type": "code",
            "execution_count": null,
            "metadata": {},
            "outputs": [],
            "source": []
        },
        {
            "cell_type": "markdown",
            "metadata": {},
            "source": [
                "1. Define function `get_completion_from_messages` with parameters `messages`, `model` (default: \"gpt-3.5-turbo\"), and `temperature` (default: 0).\n",
                "2. Call `openai.ChatCompletion.create` method and store result in `response`.\n",
                "3. Specify `model` argument using `model` parameter.\n",
                "4. Specify `messages` argument using `messages` parameter.\n",
                "5. Specify `temperature` argument using `temperature` parameter.\n",
                "6. Print message of first choice from `response` to console (this is the chat history).\n",
                "7. Return `content` attribute of message of first choice from `response`.\n",
                "\n",
                "\n",
                "# Chatbot with personality\n",
                "\n",
                "## Messages"
            ]
        },
        {
            "cell_type": "code",
            "execution_count": null,
            "metadata": {},
            "outputs": [],
            "source": []
        },
        {
            "cell_type": "markdown",
            "metadata": {},
            "source": [
                "## Response"
            ]
        },
        {
            "cell_type": "code",
            "execution_count": null,
            "metadata": {},
            "outputs": [],
            "source": []
        },
        {
            "cell_type": "markdown",
            "metadata": {},
            "source": [
                "# Unfriendly Chatbot\n",
                "\n",
                "## Messages"
            ]
        },
        {
            "cell_type": "code",
            "execution_count": null,
            "metadata": {},
            "outputs": [],
            "source": []
        },
        {
            "cell_type": "markdown",
            "metadata": {},
            "source": [
                "## Response\n"
            ]
        },
        {
            "cell_type": "code",
            "execution_count": null,
            "metadata": {},
            "outputs": [],
            "source": []
        },
        {
            "cell_type": "markdown",
            "metadata": {},
            "source": [
                "\n",
                "# Chat without history \n",
                "\n",
                "## Messages"
            ]
        },
        {
            "cell_type": "code",
            "execution_count": null,
            "metadata": {},
            "outputs": [],
            "source": []
        },
        {
            "cell_type": "markdown",
            "metadata": {},
            "source": [
                "## Response"
            ]
        },
        {
            "cell_type": "code",
            "execution_count": null,
            "metadata": {},
            "outputs": [],
            "source": []
        },
        {
            "cell_type": "markdown",
            "metadata": {},
            "source": [
                "# Chat with history\n",
                "\n",
                "## Messages"
            ]
        },
        {
            "cell_type": "code",
            "execution_count": null,
            "metadata": {},
            "outputs": [],
            "source": []
        },
        {
            "cell_type": "markdown",
            "metadata": {},
            "source": [
                "## Response"
            ]
        },
        {
            "cell_type": "code",
            "execution_count": null,
            "metadata": {},
            "outputs": [],
            "source": []
        },
        {
            "cell_type": "markdown",
            "metadata": {},
            "source": [
                "\n"
            ]
        },
        {
            "cell_type": "code",
            "execution_count": null,
            "metadata": {},
            "outputs": [],
            "source": []
        },
        {
            "cell_type": "markdown",
            "metadata": {},
            "source": [
                "## Helper function "
            ]
        },
        {
            "cell_type": "code",
            "execution_count": null,
            "metadata": {},
            "outputs": [],
            "source": [
                "def collect_messages(_):\n",
                "    prompt = inp.value_input\n",
                "    inp.value = ''\n",
                "    context.append({'role': 'user', 'content': f\"{prompt}\"})\n",
                "    response = get_completion_from_messages(context)\n",
                "    context.append({'role': 'assistant', 'content': f\"{response}\"})\n",
                "    panels.append(\n",
                "        pn.Row('User:', pn.pane.Markdown(prompt, width=600)))\n",
                "    panels.append(\n",
                "        pn.Row('Assistant:', pn.pane.Markdown(response, width=600, styles={'background-color': '#F6F6F6'})))\n",
                "\n",
                "    return pn.Column(*panels)\n"
            ]
        },
        {
            "cell_type": "markdown",
            "metadata": {},
            "source": [
                "## Panel Dashboard { .smaller background-color='aquamarine' }\n",
                "\n",
                "- Note that the dasboard in this presentation is **not** working \n",
                "\n",
                "- You need to run the Jupyter Notebook on your own machine in order to use the Dashboard"
            ]
        },
        {
            "cell_type": "code",
            "execution_count": null,
            "metadata": {},
            "outputs": [],
            "source": [
                "pn.extension()\n",
                "\n",
                "panels = []  \n",
                "\n",
                "inp = pn.widgets.TextInput(value=\"Hi\", placeholder='Enter text here…')\n",
                "button_conversation = pn.widgets.Button(name=\"Chat!\")\n",
                "\n",
                "interactive_conversation = pn.bind(collect_messages, button_conversation)\n",
                "\n",
                "dashboard = pn.Column(\n",
                "    inp,\n",
                "    pn.Row(button_conversation),\n",
                "    pn.panel(interactive_conversation, loading_indicator=True, height=300),\n",
                ")\n",
                "\n",
                "dashboard"
            ]
        },
        {
            "cell_type": "markdown",
            "metadata": {},
            "source": [
                "## Function"
            ]
        },
        {
            "cell_type": "code",
            "execution_count": null,
            "metadata": {},
            "outputs": [],
            "source": []
        },
        {
            "cell_type": "markdown",
            "metadata": {},
            "source": [
                "## Output"
            ]
        },
        {
            "cell_type": "code",
            "execution_count": null,
            "metadata": {},
            "outputs": [],
            "source": []
        }
    ],
    "metadata": {
        "kernelspec": {
            "display_name": "Python 3 (ipykernel)",
            "language": "python",
            "name": "python3"
        }
    },
    "nbformat": 4,
    "nbformat_minor": 4
}
